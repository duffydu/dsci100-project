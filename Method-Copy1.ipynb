{
 "cells": [
  {
   "cell_type": "code",
   "execution_count": 4,
   "metadata": {},
   "outputs": [
    {
     "name": "stderr",
     "output_type": "stream",
     "text": [
      "Updating HTML index of packages in '.Library'\n",
      "\n",
      "Making 'packages.html' ...\n",
      " done\n",
      "\n"
     ]
    }
   ],
   "source": [
    "#Loaded Libraries\n",
    "\n",
    "library(tidyverse)\n",
    "library(repr)\n",
    "library(tidymodels)\n",
    "library(caret)\n",
    "install.packages(\"expss\")\n",
    "library(expss)\n",
    "library(ggplot2)\n",
    "library(GGally)\n",
    "library(\"gridExtra\")"
   ]
  },
  {
   "cell_type": "code",
   "execution_count": 5,
   "metadata": {},
   "outputs": [
    {
     "name": "stderr",
     "output_type": "stream",
     "text": [
      "Parsed with column specification:\n",
      "cols(\n",
      "  age = \u001b[32mcol_double()\u001b[39m,\n",
      "  sex = \u001b[32mcol_double()\u001b[39m,\n",
      "  cp = \u001b[32mcol_double()\u001b[39m,\n",
      "  trestbps = \u001b[32mcol_double()\u001b[39m,\n",
      "  chol = \u001b[32mcol_double()\u001b[39m,\n",
      "  fbs = \u001b[32mcol_double()\u001b[39m,\n",
      "  restercg = \u001b[32mcol_double()\u001b[39m,\n",
      "  thalach = \u001b[32mcol_double()\u001b[39m,\n",
      "  exang = \u001b[32mcol_double()\u001b[39m,\n",
      "  oldpeak = \u001b[32mcol_double()\u001b[39m,\n",
      "  slope = \u001b[32mcol_double()\u001b[39m,\n",
      "  ca = \u001b[31mcol_character()\u001b[39m,\n",
      "  thal = \u001b[31mcol_character()\u001b[39m,\n",
      "  num = \u001b[32mcol_double()\u001b[39m\n",
      ")\n",
      "\n"
     ]
    },
    {
     "data": {
      "text/html": [
       "<table>\n",
       "<caption>A tibble: 6 × 14</caption>\n",
       "<thead>\n",
       "\t<tr><th scope=col>age</th><th scope=col>sex</th><th scope=col>cp</th><th scope=col>trestbps</th><th scope=col>chol</th><th scope=col>fbs</th><th scope=col>restercg</th><th scope=col>thalach</th><th scope=col>exang</th><th scope=col>oldpeak</th><th scope=col>slope</th><th scope=col>ca</th><th scope=col>thal</th><th scope=col>num</th></tr>\n",
       "\t<tr><th scope=col>&lt;dbl&gt;</th><th scope=col>&lt;dbl&gt;</th><th scope=col>&lt;dbl&gt;</th><th scope=col>&lt;dbl&gt;</th><th scope=col>&lt;dbl&gt;</th><th scope=col>&lt;dbl&gt;</th><th scope=col>&lt;dbl&gt;</th><th scope=col>&lt;dbl&gt;</th><th scope=col>&lt;dbl&gt;</th><th scope=col>&lt;dbl&gt;</th><th scope=col>&lt;dbl&gt;</th><th scope=col>&lt;chr&gt;</th><th scope=col>&lt;chr&gt;</th><th scope=col>&lt;fct&gt;</th></tr>\n",
       "</thead>\n",
       "<tbody>\n",
       "\t<tr><td>63</td><td>1</td><td>1</td><td>145</td><td>233</td><td>1</td><td>2</td><td>150</td><td>0</td><td>2.3</td><td>3</td><td>0.0</td><td>6.0</td><td>0</td></tr>\n",
       "\t<tr><td>67</td><td>1</td><td>4</td><td>160</td><td>286</td><td>0</td><td>2</td><td>108</td><td>1</td><td>1.5</td><td>2</td><td>3.0</td><td>3.0</td><td>2</td></tr>\n",
       "\t<tr><td>67</td><td>1</td><td>4</td><td>120</td><td>229</td><td>0</td><td>2</td><td>129</td><td>1</td><td>2.6</td><td>2</td><td>2.0</td><td>7.0</td><td>1</td></tr>\n",
       "\t<tr><td>37</td><td>1</td><td>3</td><td>130</td><td>250</td><td>0</td><td>0</td><td>187</td><td>0</td><td>3.5</td><td>3</td><td>0.0</td><td>3.0</td><td>0</td></tr>\n",
       "\t<tr><td>41</td><td>0</td><td>2</td><td>130</td><td>204</td><td>0</td><td>2</td><td>172</td><td>0</td><td>1.4</td><td>1</td><td>0.0</td><td>3.0</td><td>0</td></tr>\n",
       "\t<tr><td>56</td><td>1</td><td>2</td><td>120</td><td>236</td><td>0</td><td>0</td><td>178</td><td>0</td><td>0.8</td><td>1</td><td>0.0</td><td>3.0</td><td>0</td></tr>\n",
       "</tbody>\n",
       "</table>\n"
      ],
      "text/latex": [
       "A tibble: 6 × 14\n",
       "\\begin{tabular}{llllllllllllll}\n",
       " age & sex & cp & trestbps & chol & fbs & restercg & thalach & exang & oldpeak & slope & ca & thal & num\\\\\n",
       " <dbl> & <dbl> & <dbl> & <dbl> & <dbl> & <dbl> & <dbl> & <dbl> & <dbl> & <dbl> & <dbl> & <chr> & <chr> & <fct>\\\\\n",
       "\\hline\n",
       "\t 63 & 1 & 1 & 145 & 233 & 1 & 2 & 150 & 0 & 2.3 & 3 & 0.0 & 6.0 & 0\\\\\n",
       "\t 67 & 1 & 4 & 160 & 286 & 0 & 2 & 108 & 1 & 1.5 & 2 & 3.0 & 3.0 & 2\\\\\n",
       "\t 67 & 1 & 4 & 120 & 229 & 0 & 2 & 129 & 1 & 2.6 & 2 & 2.0 & 7.0 & 1\\\\\n",
       "\t 37 & 1 & 3 & 130 & 250 & 0 & 0 & 187 & 0 & 3.5 & 3 & 0.0 & 3.0 & 0\\\\\n",
       "\t 41 & 0 & 2 & 130 & 204 & 0 & 2 & 172 & 0 & 1.4 & 1 & 0.0 & 3.0 & 0\\\\\n",
       "\t 56 & 1 & 2 & 120 & 236 & 0 & 0 & 178 & 0 & 0.8 & 1 & 0.0 & 3.0 & 0\\\\\n",
       "\\end{tabular}\n"
      ],
      "text/markdown": [
       "\n",
       "A tibble: 6 × 14\n",
       "\n",
       "| age &lt;dbl&gt; | sex &lt;dbl&gt; | cp &lt;dbl&gt; | trestbps &lt;dbl&gt; | chol &lt;dbl&gt; | fbs &lt;dbl&gt; | restercg &lt;dbl&gt; | thalach &lt;dbl&gt; | exang &lt;dbl&gt; | oldpeak &lt;dbl&gt; | slope &lt;dbl&gt; | ca &lt;chr&gt; | thal &lt;chr&gt; | num &lt;fct&gt; |\n",
       "|---|---|---|---|---|---|---|---|---|---|---|---|---|---|\n",
       "| 63 | 1 | 1 | 145 | 233 | 1 | 2 | 150 | 0 | 2.3 | 3 | 0.0 | 6.0 | 0 |\n",
       "| 67 | 1 | 4 | 160 | 286 | 0 | 2 | 108 | 1 | 1.5 | 2 | 3.0 | 3.0 | 2 |\n",
       "| 67 | 1 | 4 | 120 | 229 | 0 | 2 | 129 | 1 | 2.6 | 2 | 2.0 | 7.0 | 1 |\n",
       "| 37 | 1 | 3 | 130 | 250 | 0 | 0 | 187 | 0 | 3.5 | 3 | 0.0 | 3.0 | 0 |\n",
       "| 41 | 0 | 2 | 130 | 204 | 0 | 2 | 172 | 0 | 1.4 | 1 | 0.0 | 3.0 | 0 |\n",
       "| 56 | 1 | 2 | 120 | 236 | 0 | 0 | 178 | 0 | 0.8 | 1 | 0.0 | 3.0 | 0 |\n",
       "\n"
      ],
      "text/plain": [
       "  age sex cp trestbps chol fbs restercg thalach exang oldpeak slope ca  thal\n",
       "1 63  1   1  145      233  1   2        150     0     2.3     3     0.0 6.0 \n",
       "2 67  1   4  160      286  0   2        108     1     1.5     2     3.0 3.0 \n",
       "3 67  1   4  120      229  0   2        129     1     2.6     2     2.0 7.0 \n",
       "4 37  1   3  130      250  0   0        187     0     3.5     3     0.0 3.0 \n",
       "5 41  0   2  130      204  0   2        172     0     1.4     1     0.0 3.0 \n",
       "6 56  1   2  120      236  0   0        178     0     0.8     1     0.0 3.0 \n",
       "  num\n",
       "1 0  \n",
       "2 2  \n",
       "3 1  \n",
       "4 0  \n",
       "5 0  \n",
       "6 0  "
      ]
     },
     "metadata": {},
     "output_type": "display_data"
    }
   ],
   "source": [
    "# Data Loaded \n",
    "\n",
    "cleveland_data <- read_csv(\"https://archive.ics.uci.edu/ml/machine-learning-databases/heart-disease/processed.cleveland.data\", \n",
    "                           col_names = c(\"age\", \n",
    "                                         \"sex\", \n",
    "                                         \"cp\", \n",
    "                                         \"trestbps\", \n",
    "                                         \"chol\", \n",
    "                                         \"fbs\", \n",
    "                                         \"restercg\", \n",
    "                                         \"thalach\", \n",
    "                                         \"exang\", \n",
    "                                         \"oldpeak\", \n",
    "                                         \"slope\", \n",
    "                                         \"ca\", \n",
    "                                         \"thal\", \n",
    "                                         \"num\"))\n",
    "cleveland_data$num <- as.factor(cleveland_data$num)\n",
    "head(cleveland_data)"
   ]
  },
  {
   "cell_type": "code",
   "execution_count": 6,
   "metadata": {},
   "outputs": [
    {
     "data": {
      "text/html": [
       "<style>\n",
       ".list-inline {list-style: none; margin:0; padding: 0}\n",
       ".list-inline>li {display: inline-block}\n",
       ".list-inline>li:not(:last-child)::after {content: \"\\00b7\"; padding: 0 .5ex}\n",
       "</style>\n",
       "<ol class=list-inline><li>'0'</li><li>'1'</li><li>'2'</li><li>'3'</li><li>'4'</li></ol>\n"
      ],
      "text/latex": [
       "\\begin{enumerate*}\n",
       "\\item '0'\n",
       "\\item '1'\n",
       "\\item '2'\n",
       "\\item '3'\n",
       "\\item '4'\n",
       "\\end{enumerate*}\n"
      ],
      "text/markdown": [
       "1. '0'\n",
       "2. '1'\n",
       "3. '2'\n",
       "4. '3'\n",
       "5. '4'\n",
       "\n",
       "\n"
      ],
      "text/plain": [
       "[1] \"0\" \"1\" \"2\" \"3\" \"4\""
      ]
     },
     "metadata": {},
     "output_type": "display_data"
    },
    {
     "data": {
      "text/html": [
       "<table>\n",
       "<caption>A tibble: 6 × 15</caption>\n",
       "<thead>\n",
       "\t<tr><th scope=col>age</th><th scope=col>sex</th><th scope=col>cp</th><th scope=col>trestbps</th><th scope=col>chol</th><th scope=col>fbs</th><th scope=col>restercg</th><th scope=col>thalach</th><th scope=col>exang</th><th scope=col>oldpeak</th><th scope=col>slope</th><th scope=col>ca</th><th scope=col>thal</th><th scope=col>num</th><th scope=col>diagnosis</th></tr>\n",
       "\t<tr><th scope=col>&lt;dbl&gt;</th><th scope=col>&lt;dbl&gt;</th><th scope=col>&lt;dbl&gt;</th><th scope=col>&lt;dbl&gt;</th><th scope=col>&lt;dbl&gt;</th><th scope=col>&lt;dbl&gt;</th><th scope=col>&lt;dbl&gt;</th><th scope=col>&lt;dbl&gt;</th><th scope=col>&lt;dbl&gt;</th><th scope=col>&lt;dbl&gt;</th><th scope=col>&lt;dbl&gt;</th><th scope=col>&lt;chr&gt;</th><th scope=col>&lt;chr&gt;</th><th scope=col>&lt;fct&gt;</th><th scope=col>&lt;fct&gt;</th></tr>\n",
       "</thead>\n",
       "<tbody>\n",
       "\t<tr><td>63</td><td>1</td><td>1</td><td>145</td><td>233</td><td>1</td><td>2</td><td>150</td><td>0</td><td>2.3</td><td>3</td><td>0.0</td><td>6.0</td><td>0</td><td>absent </td></tr>\n",
       "\t<tr><td>67</td><td>1</td><td>4</td><td>160</td><td>286</td><td>0</td><td>2</td><td>108</td><td>1</td><td>1.5</td><td>2</td><td>3.0</td><td>3.0</td><td>2</td><td>present</td></tr>\n",
       "\t<tr><td>67</td><td>1</td><td>4</td><td>120</td><td>229</td><td>0</td><td>2</td><td>129</td><td>1</td><td>2.6</td><td>2</td><td>2.0</td><td>7.0</td><td>1</td><td>present</td></tr>\n",
       "\t<tr><td>37</td><td>1</td><td>3</td><td>130</td><td>250</td><td>0</td><td>0</td><td>187</td><td>0</td><td>3.5</td><td>3</td><td>0.0</td><td>3.0</td><td>0</td><td>absent </td></tr>\n",
       "\t<tr><td>41</td><td>0</td><td>2</td><td>130</td><td>204</td><td>0</td><td>2</td><td>172</td><td>0</td><td>1.4</td><td>1</td><td>0.0</td><td>3.0</td><td>0</td><td>absent </td></tr>\n",
       "\t<tr><td>56</td><td>1</td><td>2</td><td>120</td><td>236</td><td>0</td><td>0</td><td>178</td><td>0</td><td>0.8</td><td>1</td><td>0.0</td><td>3.0</td><td>0</td><td>absent </td></tr>\n",
       "</tbody>\n",
       "</table>\n"
      ],
      "text/latex": [
       "A tibble: 6 × 15\n",
       "\\begin{tabular}{lllllllllllllll}\n",
       " age & sex & cp & trestbps & chol & fbs & restercg & thalach & exang & oldpeak & slope & ca & thal & num & diagnosis\\\\\n",
       " <dbl> & <dbl> & <dbl> & <dbl> & <dbl> & <dbl> & <dbl> & <dbl> & <dbl> & <dbl> & <dbl> & <chr> & <chr> & <fct> & <fct>\\\\\n",
       "\\hline\n",
       "\t 63 & 1 & 1 & 145 & 233 & 1 & 2 & 150 & 0 & 2.3 & 3 & 0.0 & 6.0 & 0 & absent \\\\\n",
       "\t 67 & 1 & 4 & 160 & 286 & 0 & 2 & 108 & 1 & 1.5 & 2 & 3.0 & 3.0 & 2 & present\\\\\n",
       "\t 67 & 1 & 4 & 120 & 229 & 0 & 2 & 129 & 1 & 2.6 & 2 & 2.0 & 7.0 & 1 & present\\\\\n",
       "\t 37 & 1 & 3 & 130 & 250 & 0 & 0 & 187 & 0 & 3.5 & 3 & 0.0 & 3.0 & 0 & absent \\\\\n",
       "\t 41 & 0 & 2 & 130 & 204 & 0 & 2 & 172 & 0 & 1.4 & 1 & 0.0 & 3.0 & 0 & absent \\\\\n",
       "\t 56 & 1 & 2 & 120 & 236 & 0 & 0 & 178 & 0 & 0.8 & 1 & 0.0 & 3.0 & 0 & absent \\\\\n",
       "\\end{tabular}\n"
      ],
      "text/markdown": [
       "\n",
       "A tibble: 6 × 15\n",
       "\n",
       "| age &lt;dbl&gt; | sex &lt;dbl&gt; | cp &lt;dbl&gt; | trestbps &lt;dbl&gt; | chol &lt;dbl&gt; | fbs &lt;dbl&gt; | restercg &lt;dbl&gt; | thalach &lt;dbl&gt; | exang &lt;dbl&gt; | oldpeak &lt;dbl&gt; | slope &lt;dbl&gt; | ca &lt;chr&gt; | thal &lt;chr&gt; | num &lt;fct&gt; | diagnosis &lt;fct&gt; |\n",
       "|---|---|---|---|---|---|---|---|---|---|---|---|---|---|---|\n",
       "| 63 | 1 | 1 | 145 | 233 | 1 | 2 | 150 | 0 | 2.3 | 3 | 0.0 | 6.0 | 0 | absent  |\n",
       "| 67 | 1 | 4 | 160 | 286 | 0 | 2 | 108 | 1 | 1.5 | 2 | 3.0 | 3.0 | 2 | present |\n",
       "| 67 | 1 | 4 | 120 | 229 | 0 | 2 | 129 | 1 | 2.6 | 2 | 2.0 | 7.0 | 1 | present |\n",
       "| 37 | 1 | 3 | 130 | 250 | 0 | 0 | 187 | 0 | 3.5 | 3 | 0.0 | 3.0 | 0 | absent  |\n",
       "| 41 | 0 | 2 | 130 | 204 | 0 | 2 | 172 | 0 | 1.4 | 1 | 0.0 | 3.0 | 0 | absent  |\n",
       "| 56 | 1 | 2 | 120 | 236 | 0 | 0 | 178 | 0 | 0.8 | 1 | 0.0 | 3.0 | 0 | absent  |\n",
       "\n"
      ],
      "text/plain": [
       "  age sex cp trestbps chol fbs restercg thalach exang oldpeak slope ca  thal\n",
       "1 63  1   1  145      233  1   2        150     0     2.3     3     0.0 6.0 \n",
       "2 67  1   4  160      286  0   2        108     1     1.5     2     3.0 3.0 \n",
       "3 67  1   4  120      229  0   2        129     1     2.6     2     2.0 7.0 \n",
       "4 37  1   3  130      250  0   0        187     0     3.5     3     0.0 3.0 \n",
       "5 41  0   2  130      204  0   2        172     0     1.4     1     0.0 3.0 \n",
       "6 56  1   2  120      236  0   0        178     0     0.8     1     0.0 3.0 \n",
       "  num diagnosis\n",
       "1 0   absent   \n",
       "2 2   present  \n",
       "3 1   present  \n",
       "4 0   absent   \n",
       "5 0   absent   \n",
       "6 0   absent   "
      ]
     },
     "metadata": {},
     "output_type": "display_data"
    },
    {
     "name": "stderr",
     "output_type": "stream",
     "text": [
      "`summarise()` ungrouping output (override with `.groups` argument)\n",
      "\n"
     ]
    },
    {
     "data": {
      "text/html": [
       "<table>\n",
       "<caption>A tibble: 2 × 2</caption>\n",
       "<thead>\n",
       "\t<tr><th scope=col>diagnosis</th><th scope=col>n</th></tr>\n",
       "\t<tr><th scope=col>&lt;fct&gt;</th><th scope=col>&lt;int&gt;</th></tr>\n",
       "</thead>\n",
       "<tbody>\n",
       "\t<tr><td>absent </td><td>164</td></tr>\n",
       "\t<tr><td>present</td><td>139</td></tr>\n",
       "</tbody>\n",
       "</table>\n"
      ],
      "text/latex": [
       "A tibble: 2 × 2\n",
       "\\begin{tabular}{ll}\n",
       " diagnosis & n\\\\\n",
       " <fct> & <int>\\\\\n",
       "\\hline\n",
       "\t absent  & 164\\\\\n",
       "\t present & 139\\\\\n",
       "\\end{tabular}\n"
      ],
      "text/markdown": [
       "\n",
       "A tibble: 2 × 2\n",
       "\n",
       "| diagnosis &lt;fct&gt; | n &lt;int&gt; |\n",
       "|---|---|\n",
       "| absent  | 164 |\n",
       "| present | 139 |\n",
       "\n"
      ],
      "text/plain": [
       "  diagnosis n  \n",
       "1 absent    164\n",
       "2 present   139"
      ]
     },
     "metadata": {},
     "output_type": "display_data"
    },
    {
     "data": {
      "text/html": [
       "<table>\n",
       "<caption>A tibble: 6 × 6</caption>\n",
       "<thead>\n",
       "\t<tr><th scope=col>age</th><th scope=col>trestbps</th><th scope=col>chol</th><th scope=col>thalach</th><th scope=col>oldpeak</th><th scope=col>diagnosis</th></tr>\n",
       "\t<tr><th scope=col>&lt;dbl&gt;</th><th scope=col>&lt;dbl&gt;</th><th scope=col>&lt;dbl&gt;</th><th scope=col>&lt;dbl&gt;</th><th scope=col>&lt;dbl&gt;</th><th scope=col>&lt;fct&gt;</th></tr>\n",
       "</thead>\n",
       "<tbody>\n",
       "\t<tr><td>63</td><td>145</td><td>233</td><td>150</td><td>2.3</td><td>absent </td></tr>\n",
       "\t<tr><td>67</td><td>160</td><td>286</td><td>108</td><td>1.5</td><td>present</td></tr>\n",
       "\t<tr><td>67</td><td>120</td><td>229</td><td>129</td><td>2.6</td><td>present</td></tr>\n",
       "\t<tr><td>37</td><td>130</td><td>250</td><td>187</td><td>3.5</td><td>absent </td></tr>\n",
       "\t<tr><td>41</td><td>130</td><td>204</td><td>172</td><td>1.4</td><td>absent </td></tr>\n",
       "\t<tr><td>56</td><td>120</td><td>236</td><td>178</td><td>0.8</td><td>absent </td></tr>\n",
       "</tbody>\n",
       "</table>\n"
      ],
      "text/latex": [
       "A tibble: 6 × 6\n",
       "\\begin{tabular}{llllll}\n",
       " age & trestbps & chol & thalach & oldpeak & diagnosis\\\\\n",
       " <dbl> & <dbl> & <dbl> & <dbl> & <dbl> & <fct>\\\\\n",
       "\\hline\n",
       "\t 63 & 145 & 233 & 150 & 2.3 & absent \\\\\n",
       "\t 67 & 160 & 286 & 108 & 1.5 & present\\\\\n",
       "\t 67 & 120 & 229 & 129 & 2.6 & present\\\\\n",
       "\t 37 & 130 & 250 & 187 & 3.5 & absent \\\\\n",
       "\t 41 & 130 & 204 & 172 & 1.4 & absent \\\\\n",
       "\t 56 & 120 & 236 & 178 & 0.8 & absent \\\\\n",
       "\\end{tabular}\n"
      ],
      "text/markdown": [
       "\n",
       "A tibble: 6 × 6\n",
       "\n",
       "| age &lt;dbl&gt; | trestbps &lt;dbl&gt; | chol &lt;dbl&gt; | thalach &lt;dbl&gt; | oldpeak &lt;dbl&gt; | diagnosis &lt;fct&gt; |\n",
       "|---|---|---|---|---|---|\n",
       "| 63 | 145 | 233 | 150 | 2.3 | absent  |\n",
       "| 67 | 160 | 286 | 108 | 1.5 | present |\n",
       "| 67 | 120 | 229 | 129 | 2.6 | present |\n",
       "| 37 | 130 | 250 | 187 | 3.5 | absent  |\n",
       "| 41 | 130 | 204 | 172 | 1.4 | absent  |\n",
       "| 56 | 120 | 236 | 178 | 0.8 | absent  |\n",
       "\n"
      ],
      "text/plain": [
       "  age trestbps chol thalach oldpeak diagnosis\n",
       "1 63  145      233  150     2.3     absent   \n",
       "2 67  160      286  108     1.5     present  \n",
       "3 67  120      229  129     2.6     present  \n",
       "4 37  130      250  187     3.5     absent   \n",
       "5 41  130      204  172     1.4     absent   \n",
       "6 56  120      236  178     0.8     absent   "
      ]
     },
     "metadata": {},
     "output_type": "display_data"
    }
   ],
   "source": [
    "# see if there is other number rather than 0-4 in the num column\n",
    "cleveland_data  %>%\n",
    "    select(num)  %>% \n",
    "    unlist() %>% \n",
    "    levels()\n",
    "\n",
    "# transform num from 0-4 to 0 or 1 (1, 2, 3, 4) and store into diagnosis variable\n",
    "cleveland_data <- cleveland_data %>%\n",
    "                  mutate(diagnosis = dplyr::recode(num, '0' = 'absent', .default = 'present'))\n",
    "\n",
    "head(cleveland_data)\n",
    "\n",
    "# to see how the original data distribute\n",
    "cleveland_data %>% \n",
    "    group_by(diagnosis) %>%\n",
    "    summarize(n = n())\n",
    "\n",
    "# We select all the numerical columns and diagnosis column\n",
    "cleveland_data2 <- cleveland_data%>%\n",
    "            select(age, trestbps, chol, thalach, oldpeak, diagnosis)\n",
    "head(cleveland_data2)\n",
    "\n",
    "heart_tidy <- cleveland_data2\n",
    "\n",
    "# Above codes are from the proposal, with the tidy dataset cleveland_data2 renamed as heart_tidy"
   ]
  },
  {
   "cell_type": "code",
   "execution_count": 34,
   "metadata": {},
   "outputs": [],
   "source": [
    "# We will use KNN Classification with 10 folds cross-validation for choosing the appropriate k value. The resulting accuracy will be calculated\n",
    "\n",
    "# Splitting the data to training and testing data\n",
    "set.seed(2022)\n",
    "heart_split <- initial_split(heart_tidy, prop = 0.75, strata = diagnosis)\n",
    "heart_train <- training(heart_split)\n",
    "heart_test <- testing(heart_split)\n",
    "\n",
    "# Perform 10 folds Cross-Validation for heart_train dataset to choose appropriate k\n",
    "# set.seed(2022)\n",
    "\n",
    "heart_10fold <- vfold_cv(heart_train, v=10, strata = diagnosis)\n",
    "\n",
    "# set.seed(2022)\n",
    "knn_spec <- nearest_neighbor(weight_func = \"rectangular\", neighbor = tune()) %>%\n",
    "            set_engine(\"kknn\") %>%\n",
    "            set_mode(\"classification\")\n",
    "#graph of different accuracy\n",
    "knn_recipe <- recipe(diagnosis ~ chol + thalach + oldpeak, data = heart_train) %>% # Important !!!!!!!!!!!! Using only 3 predictors (chol,thalach, oldpeak) will gain the max accuracy\n",
    "            step_center(all_predictors()) %>%\n",
    "            step_scale(all_predictors())\n",
    "\n",
    "heart_workflow <- workflow() %>%\n",
    "                add_model(knn_spec) %>%\n",
    "                add_recipe(knn_recipe)\n",
    "\n",
    "# gridvals <- tibble(neighbors = seq(from = 1, to = 40))\n",
    "\n",
    "# heart_result <- heart_workflow %>%\n",
    "#                 tune_grid(resamples = heart_10fold, grid = gridvals) %>%\n",
    "#                 collect_metrics() \n",
    "\n",
    "# accuracy <-  heart_result %>%\n",
    "#             filter(.metric == \"accuracy\") \n",
    "\n",
    "# Duffy\n",
    "# accuracy_versus_k <- ggplot(accuracy, aes(x = neighbors, y = mean))+\n",
    "#        geom_point() +\n",
    "#        geom_line() +\n",
    "#        labs(x = \"Neighbors\", y = \"Accuracy Estimate\") +\n",
    "#        scale_x_continuous(breaks = seq(0, 23, by = 1)) +  # adjusting the x-axis\n",
    "#        scale_y_continuous(limits = c(0.4, 1.0)) +# adjusting the y-axis \n",
    "#        theme(text=element_text(size=20))\n",
    "\n",
    "# accuracy_versus_k\n",
    "\n",
    "# appropriate_k <- accuracy %>%\n",
    "#                 arrange(-mean) %>%\n",
    "#                 slice(1) %>%\n",
    "#                 select(neighbors) %>%\n",
    "#                 pull()\n",
    "# appropriate_k\n",
    "\n",
    "\n",
    "# set.seed(2022)\n",
    "# knn_spec_new <- nearest_neighbor(weight_func = \"rectangular\", neighbor = appropriate_k) %>%\n",
    "#             set_engine(\"kknn\") %>%\n",
    "#             set_mode(\"classification\")\n",
    "\n",
    "# heart_fit <- workflow() %>%\n",
    "#                     add_model(knn_spec_new) %>%\n",
    "#                     add_recipe(knn_recipe) %>%\n",
    "#                     fit(data = heart_train)\n",
    "\n",
    "# heart_predictions <- predict(heart_fit, heart_test) %>%\n",
    "#                     bind_cols(heart_test)\n",
    "\n",
    "# heart_metrics <- heart_predictions %>% \n",
    "#     metrics(truth = diagnosis, estimate = .pred_class)\n",
    "\n",
    "# heart_conf_mat <- heart_predictions %>%\n",
    "#     conf_mat(truth =diagnosis, estimate = .pred_class)\n",
    "\n",
    "# heart_metrics\n",
    "# heart_conf_mat"
   ]
  },
  {
   "cell_type": "code",
   "execution_count": 36,
   "metadata": {},
   "outputs": [],
   "source": [
    "# warning - long run time with 1-40\n",
    "gridvals <- tibble(neighbors = seq(from = 1, to = 40, by = 2))\n",
    "\n",
    "heart_result <- heart_workflow %>%\n",
    "                tune_grid(resamples = heart_10fold, grid = gridvals) %>%\n",
    "                collect_metrics() \n",
    "\n",
    "accuracy <-  heart_result %>%\n",
    "            filter(.metric == \"accuracy\") "
   ]
  },
  {
   "cell_type": "markdown",
   "metadata": {},
   "source": [
    "## 2.5 Tuning the Classifier\n",
    "\n",
    "We then plot the accuracy values against k values to find the most optimal value for the parameter k.  "
   ]
  },
  {
   "cell_type": "code",
   "execution_count": 37,
   "metadata": {},
   "outputs": [
    {
     "data": {
      "image/png": "[encoded data removed]",
      "text/plain": [
       "plot without title"
      ]
     },
     "metadata": {
      "image/png": {
       "height": 420,
       "width": 600
      }
     },
     "output_type": "display_data"
    }
   ],
   "source": [
    "options(repr.plot.width=10, repr.plot.height=7)\n",
    "# accuracy\n",
    "accuracy_versus_k <- ggplot(accuracy, aes(x = neighbors, y = mean)) +\n",
    "       geom_point() +\n",
    "       geom_line() +\n",
    "       labs(x = \"Neighbors\", y = \"Accuracy Estimate\") +\n",
    "       scale_x_continuous(breaks = seq(0, 40, by = 2)) +  # adjusting the x-axis\n",
    "       scale_y_continuous(limits = c(0.55, 0.75)) +# adjusting the y-axis \n",
    "       theme(text=element_text(size=20)) +\n",
    "       theme_classic(base_size = 14)\n",
    "\n",
    "accuracy_versus_k"
   ]
  },
  {
   "cell_type": "markdown",
   "metadata": {},
   "source": [
    "We extract the number of neighbors associated with the highest accuracy estimate and save that value as appropriate_k. We can also visually see that the accuracy of the model peaks around K = 35 which provides a high accuracy model and changing the K value to a nearby one doesn’t decrease accuracy too much, so that our choice is reliable in the presence of uncertainty. "
   ]
  },
  {
   "cell_type": "code",
   "execution_count": 38,
   "metadata": {},
   "outputs": [
    {
     "data": {
      "text/html": [
       "27"
      ],
      "text/latex": [
       "27"
      ],
      "text/markdown": [
       "27"
      ],
      "text/plain": [
       "[1] 27"
      ]
     },
     "metadata": {},
     "output_type": "display_data"
    }
   ],
   "source": [
    "appropriate_k <- accuracy %>%\n",
    "                arrange(-mean) %>%\n",
    "                slice(1) %>%\n",
    "                select(neighbors) %>%\n",
    "                pull()\n",
    "appropriate_k"
   ]
  },
  {
   "cell_type": "markdown",
   "metadata": {},
   "source": [
    "### 2.6 Training the Classifier\n",
    "Next, we create our final model specification using appropriate_k as the number of nearest neighbors and fit the model to our training set to create our finalized classifier."
   ]
  },
  {
   "cell_type": "code",
   "execution_count": 20,
   "metadata": {},
   "outputs": [],
   "source": [
    "set.seed(2022)\n",
    "# final model specification\n",
    "knn_spec_new <- nearest_neighbor(weight_func = \"rectangular\", neighbor = appropriate_k) %>%\n",
    "            set_engine(\"kknn\") %>%\n",
    "            set_mode(\"classification\")\n",
    "\n",
    "# workflow\n",
    "heart_fit <- workflow() %>%\n",
    "                    add_model(knn_spec_new) %>%\n",
    "                    add_recipe(knn_recipe) %>%\n",
    "                    fit(data = heart_train)\n"
   ]
  },
  {
   "cell_type": "markdown",
   "metadata": {},
   "source": [
    "### 2.7 Predicting the Testing Set\n",
    "We use our finalized trained KNN classfication model to predict heart disease in patients in our testing set. We then bind the predictions produced by our model with the original testing set, so that we can compare our predictions to the true class values."
   ]
  },
  {
   "cell_type": "code",
   "execution_count": 22,
   "metadata": {},
   "outputs": [
    {
     "data": {
      "text/html": [
       "<table>\n",
       "<caption>A tibble: 6 × 7</caption>\n",
       "<thead>\n",
       "\t<tr><th scope=col>.pred_class</th><th scope=col>age</th><th scope=col>trestbps</th><th scope=col>chol</th><th scope=col>thalach</th><th scope=col>oldpeak</th><th scope=col>diagnosis</th></tr>\n",
       "\t<tr><th scope=col>&lt;fct&gt;</th><th scope=col>&lt;dbl&gt;</th><th scope=col>&lt;dbl&gt;</th><th scope=col>&lt;dbl&gt;</th><th scope=col>&lt;dbl&gt;</th><th scope=col>&lt;dbl&gt;</th><th scope=col>&lt;fct&gt;</th></tr>\n",
       "</thead>\n",
       "<tbody>\n",
       "\t<tr><td>present</td><td>67</td><td>160</td><td>286</td><td>108</td><td>1.5</td><td>present</td></tr>\n",
       "\t<tr><td>absent </td><td>52</td><td>172</td><td>199</td><td>162</td><td>0.5</td><td>absent </td></tr>\n",
       "\t<tr><td>absent </td><td>54</td><td>140</td><td>239</td><td>160</td><td>1.2</td><td>absent </td></tr>\n",
       "\t<tr><td>present</td><td>60</td><td>130</td><td>206</td><td>132</td><td>2.4</td><td>present</td></tr>\n",
       "\t<tr><td>present</td><td>50</td><td>120</td><td>219</td><td>158</td><td>1.6</td><td>absent </td></tr>\n",
       "\t<tr><td>absent </td><td>64</td><td>140</td><td>335</td><td>158</td><td>0.0</td><td>present</td></tr>\n",
       "</tbody>\n",
       "</table>\n"
      ],
      "text/latex": [
       "A tibble: 6 × 7\n",
       "\\begin{tabular}{lllllll}\n",
       " .pred\\_class & age & trestbps & chol & thalach & oldpeak & diagnosis\\\\\n",
       " <fct> & <dbl> & <dbl> & <dbl> & <dbl> & <dbl> & <fct>\\\\\n",
       "\\hline\n",
       "\t present & 67 & 160 & 286 & 108 & 1.5 & present\\\\\n",
       "\t absent  & 52 & 172 & 199 & 162 & 0.5 & absent \\\\\n",
       "\t absent  & 54 & 140 & 239 & 160 & 1.2 & absent \\\\\n",
       "\t present & 60 & 130 & 206 & 132 & 2.4 & present\\\\\n",
       "\t present & 50 & 120 & 219 & 158 & 1.6 & absent \\\\\n",
       "\t absent  & 64 & 140 & 335 & 158 & 0.0 & present\\\\\n",
       "\\end{tabular}\n"
      ],
      "text/markdown": [
       "\n",
       "A tibble: 6 × 7\n",
       "\n",
       "| .pred_class &lt;fct&gt; | age &lt;dbl&gt; | trestbps &lt;dbl&gt; | chol &lt;dbl&gt; | thalach &lt;dbl&gt; | oldpeak &lt;dbl&gt; | diagnosis &lt;fct&gt; |\n",
       "|---|---|---|---|---|---|---|\n",
       "| present | 67 | 160 | 286 | 108 | 1.5 | present |\n",
       "| absent  | 52 | 172 | 199 | 162 | 0.5 | absent  |\n",
       "| absent  | 54 | 140 | 239 | 160 | 1.2 | absent  |\n",
       "| present | 60 | 130 | 206 | 132 | 2.4 | present |\n",
       "| present | 50 | 120 | 219 | 158 | 1.6 | absent  |\n",
       "| absent  | 64 | 140 | 335 | 158 | 0.0 | present |\n",
       "\n"
      ],
      "text/plain": [
       "  .pred_class age trestbps chol thalach oldpeak diagnosis\n",
       "1 present     67  160      286  108     1.5     present  \n",
       "2 absent      52  172      199  162     0.5     absent   \n",
       "3 absent      54  140      239  160     1.2     absent   \n",
       "4 present     60  130      206  132     2.4     present  \n",
       "5 present     50  120      219  158     1.6     absent   \n",
       "6 absent      64  140      335  158     0.0     present  "
      ]
     },
     "metadata": {},
     "output_type": "display_data"
    }
   ],
   "source": [
    "heart_predictions <- predict(heart_fit, heart_test) %>%\n",
    "                    bind_cols(heart_test)\n",
    "head(heart_predictions)\n"
   ]
  },
  {
   "cell_type": "markdown",
   "metadata": {},
   "source": [
    "## 3. Results\n",
    "Comparing the predictions of our KNN classfication model on the testing data to the actual value, we can evaluate our model's performance by calculating the overall accuracy of our model's predictions. We achieve a final accuracy rate of 78.67 %."
   ]
  },
  {
   "cell_type": "code",
   "execution_count": 23,
   "metadata": {},
   "outputs": [
    {
     "data": {
      "text/html": [
       "'78.67 %'"
      ],
      "text/latex": [
       "'78.67 \\%'"
      ],
      "text/markdown": [
       "'78.67 %'"
      ],
      "text/plain": [
       "[1] \"78.67 %\""
      ]
     },
     "metadata": {},
     "output_type": "display_data"
    }
   ],
   "source": [
    "heart_summary <- heart_predictions %>%\n",
    "                  metrics(truth = diagnosis, estimate = .pred_class) %>%\n",
    "                  filter(.metric == \"accuracy\")\n",
    "\n",
    "heart_accuracy <- heart_summary %>%\n",
    "                select(.estimate) %>%\n",
    "                pull()\n",
    "\n",
    "paste(round(heart_accuracy*100,2), \"%\")\n"
   ]
  },
  {
   "cell_type": "markdown",
   "metadata": {},
   "source": [
    "We also put the prediction results into a confusion matrix comparing with the actual results, this allow us to see how many false positives and false negatives our models gave."
   ]
  },
  {
   "cell_type": "code",
   "execution_count": 24,
   "metadata": {},
   "outputs": [
    {
     "data": {
      "text/plain": [
       "          Truth\n",
       "Prediction absent present\n",
       "   absent      35      10\n",
       "   present      6      24"
      ]
     },
     "metadata": {},
     "output_type": "display_data"
    }
   ],
   "source": [
    "heart_conf_mat <- heart_predictions %>%\n",
    "    conf_mat(truth =diagnosis, estimate = .pred_class)\n",
    "\n",
    "heart_conf_mat"
   ]
  },
  {
   "cell_type": "markdown",
   "metadata": {},
   "source": [
    "Our model gave 6 false positives and 10 false negatives. This might not be a very good model to use in a medical field as false negatives may lead to a misdiagnosis of heart disease and patient will not be treated in time for their condition. However, our model produced a relatively low number of false positives. This could be good in a medical perspective in that not a lot of patients will have to go through additional invasive testing for a final accurate diagnosis. "
   ]
  },
  {
   "cell_type": "code",
   "execution_count": null,
   "metadata": {},
   "outputs": [],
   "source": []
  }
 ],
 "metadata": {
  "kernelspec": {
   "display_name": "R",
   "language": "R",
   "name": "ir"
  },
  "language_info": {
   "codemirror_mode": "r",
   "file_extension": ".r",
   "mimetype": "text/x-r-source",
   "name": "R",
   "pygments_lexer": "r",
   "version": "4.0.0"
  }
 },
 "nbformat": 4,
 "nbformat_minor": 4
}
