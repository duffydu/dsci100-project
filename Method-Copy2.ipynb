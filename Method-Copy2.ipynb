{
 "cells": [
  {
   "cell_type": "code",
   "execution_count": 1,
   "metadata": {},
   "outputs": [
    {
     "name": "stderr",
     "output_type": "stream",
     "text": [
      "── \u001b[1mAttaching packages\u001b[22m ─────────────────────────────────────── tidyverse 1.3.0 ──\n",
      "\n",
      "\u001b[32m✔\u001b[39m \u001b[34mggplot2\u001b[39m 3.3.2     \u001b[32m✔\u001b[39m \u001b[34mpurrr  \u001b[39m 0.3.4\n",
      "\u001b[32m✔\u001b[39m \u001b[34mtibble \u001b[39m 3.0.3     \u001b[32m✔\u001b[39m \u001b[34mdplyr  \u001b[39m 1.0.2\n",
      "\u001b[32m✔\u001b[39m \u001b[34mtidyr  \u001b[39m 1.1.2     \u001b[32m✔\u001b[39m \u001b[34mstringr\u001b[39m 1.4.0\n",
      "\u001b[32m✔\u001b[39m \u001b[34mreadr  \u001b[39m 1.3.1     \u001b[32m✔\u001b[39m \u001b[34mforcats\u001b[39m 0.5.0\n",
      "\n",
      "Warning message:\n",
      "“package ‘ggplot2’ was built under R version 4.0.1”\n",
      "Warning message:\n",
      "“package ‘tibble’ was built under R version 4.0.2”\n",
      "Warning message:\n",
      "“package ‘tidyr’ was built under R version 4.0.2”\n",
      "Warning message:\n",
      "“package ‘dplyr’ was built under R version 4.0.2”\n",
      "── \u001b[1mConflicts\u001b[22m ────────────────────────────────────────── tidyverse_conflicts() ──\n",
      "\u001b[31m✖\u001b[39m \u001b[34mdplyr\u001b[39m::\u001b[32mfilter()\u001b[39m masks \u001b[34mstats\u001b[39m::filter()\n",
      "\u001b[31m✖\u001b[39m \u001b[34mdplyr\u001b[39m::\u001b[32mlag()\u001b[39m    masks \u001b[34mstats\u001b[39m::lag()\n",
      "\n",
      "Warning message:\n",
      "“package ‘tidymodels’ was built under R version 4.0.2”\n",
      "── \u001b[1mAttaching packages\u001b[22m ────────────────────────────────────── tidymodels 0.1.1 ──\n",
      "\n",
      "\u001b[32m✔\u001b[39m \u001b[34mbroom    \u001b[39m 0.7.0      \u001b[32m✔\u001b[39m \u001b[34mrecipes  \u001b[39m 0.1.13\n",
      "\u001b[32m✔\u001b[39m \u001b[34mdials    \u001b[39m 0.0.9      \u001b[32m✔\u001b[39m \u001b[34mrsample  \u001b[39m 0.0.7 \n",
      "\u001b[32m✔\u001b[39m \u001b[34minfer    \u001b[39m 0.5.4      \u001b[32m✔\u001b[39m \u001b[34mtune     \u001b[39m 0.1.1 \n",
      "\u001b[32m✔\u001b[39m \u001b[34mmodeldata\u001b[39m 0.0.2      \u001b[32m✔\u001b[39m \u001b[34mworkflows\u001b[39m 0.2.0 \n",
      "\u001b[32m✔\u001b[39m \u001b[34mparsnip  \u001b[39m 0.1.3      \u001b[32m✔\u001b[39m \u001b[34myardstick\u001b[39m 0.0.7 \n",
      "\n",
      "Warning message:\n",
      "“package ‘broom’ was built under R version 4.0.2”\n",
      "Warning message:\n",
      "“package ‘dials’ was built under R version 4.0.2”\n",
      "Warning message:\n",
      "“package ‘infer’ was built under R version 4.0.3”\n",
      "Warning message:\n",
      "“package ‘modeldata’ was built under R version 4.0.1”\n",
      "Warning message:\n",
      "“package ‘parsnip’ was built under R version 4.0.2”\n",
      "Warning message:\n",
      "“package ‘recipes’ was built under R version 4.0.1”\n",
      "Warning message:\n",
      "“package ‘tune’ was built under R version 4.0.2”\n",
      "Warning message:\n",
      "“package ‘workflows’ was built under R version 4.0.2”\n",
      "Warning message:\n",
      "“package ‘yardstick’ was built under R version 4.0.2”\n",
      "── \u001b[1mConflicts\u001b[22m ───────────────────────────────────────── tidymodels_conflicts() ──\n",
      "\u001b[31m✖\u001b[39m \u001b[34mscales\u001b[39m::\u001b[32mdiscard()\u001b[39m masks \u001b[34mpurrr\u001b[39m::discard()\n",
      "\u001b[31m✖\u001b[39m \u001b[34mdplyr\u001b[39m::\u001b[32mfilter()\u001b[39m   masks \u001b[34mstats\u001b[39m::filter()\n",
      "\u001b[31m✖\u001b[39m \u001b[34mrecipes\u001b[39m::\u001b[32mfixed()\u001b[39m  masks \u001b[34mstringr\u001b[39m::fixed()\n",
      "\u001b[31m✖\u001b[39m \u001b[34mdplyr\u001b[39m::\u001b[32mlag()\u001b[39m      masks \u001b[34mstats\u001b[39m::lag()\n",
      "\u001b[31m✖\u001b[39m \u001b[34myardstick\u001b[39m::\u001b[32mspec()\u001b[39m masks \u001b[34mreadr\u001b[39m::spec()\n",
      "\u001b[31m✖\u001b[39m \u001b[34mrecipes\u001b[39m::\u001b[32mstep()\u001b[39m   masks \u001b[34mstats\u001b[39m::step()\n",
      "\n",
      "Loading required package: lattice\n",
      "\n",
      "\n",
      "Attaching package: ‘caret’\n",
      "\n",
      "\n",
      "The following objects are masked from ‘package:yardstick’:\n",
      "\n",
      "    precision, recall, sensitivity, specificity\n",
      "\n",
      "\n",
      "The following object is masked from ‘package:purrr’:\n",
      "\n",
      "    lift\n",
      "\n",
      "\n",
      "Updating HTML index of packages in '.Library'\n",
      "\n",
      "Making 'packages.html' ...\n",
      " done\n",
      "\n",
      "Loading required package: maditr\n",
      "\n",
      "\n",
      "To drop variable use NULL: let(mtcars, am = NULL) %>% head()\n",
      "\n",
      "\n",
      "\n",
      "Attaching package: ‘maditr’\n",
      "\n",
      "\n",
      "The following objects are masked from ‘package:dplyr’:\n",
      "\n",
      "    between, coalesce, first, last\n",
      "\n",
      "\n",
      "The following object is masked from ‘package:purrr’:\n",
      "\n",
      "    transpose\n",
      "\n",
      "\n",
      "The following object is masked from ‘package:readr’:\n",
      "\n",
      "    cols\n",
      "\n",
      "\n",
      "\n",
      "Attaching package: ‘expss’\n",
      "\n",
      "\n",
      "The following object is masked from ‘package:recipes’:\n",
      "\n",
      "    fixed\n",
      "\n",
      "\n",
      "The following object is masked from ‘package:infer’:\n",
      "\n",
      "    calculate\n",
      "\n",
      "\n",
      "The following objects are masked from ‘package:stringr’:\n",
      "\n",
      "    fixed, regex\n",
      "\n",
      "\n",
      "The following objects are masked from ‘package:dplyr’:\n",
      "\n",
      "    compute, contains, na_if, recode, vars\n",
      "\n",
      "\n",
      "The following objects are masked from ‘package:purrr’:\n",
      "\n",
      "    keep, modify, modify_if, when\n",
      "\n",
      "\n",
      "The following objects are masked from ‘package:tidyr’:\n",
      "\n",
      "    contains, nest\n",
      "\n",
      "\n",
      "The following object is masked from ‘package:ggplot2’:\n",
      "\n",
      "    vars\n",
      "\n",
      "\n",
      "Registered S3 method overwritten by 'GGally':\n",
      "  method from   \n",
      "  +.gg   ggplot2\n",
      "\n",
      "\n",
      "Attaching package: ‘gridExtra’\n",
      "\n",
      "\n",
      "The following object is masked from ‘package:dplyr’:\n",
      "\n",
      "    combine\n",
      "\n",
      "\n",
      "Warning message:\n",
      "“package ‘rvest’ was built under R version 4.0.2”\n",
      "Loading required package: xml2\n",
      "\n",
      "\n",
      "Attaching package: ‘rvest’\n",
      "\n",
      "\n",
      "The following object is masked from ‘package:purrr’:\n",
      "\n",
      "    pluck\n",
      "\n",
      "\n",
      "The following object is masked from ‘package:readr’:\n",
      "\n",
      "    guess_encoding\n",
      "\n",
      "\n",
      "\n",
      "Attaching package: ‘dbplyr’\n",
      "\n",
      "\n",
      "The following objects are masked from ‘package:dplyr’:\n",
      "\n",
      "    ident, sql\n",
      "\n",
      "\n"
     ]
    }
   ],
   "source": [
    "#Loaded Libraries\n",
    "\n",
    "library(tidyverse)\n",
    "library(repr)\n",
    "library(tidymodels)\n",
    "library(caret)\n",
    "install.packages(\"expss\")\n",
    "library(expss)\n",
    "library(ggplot2)\n",
    "library(GGally)\n",
    "library(\"gridExtra\")\n",
    "library(rvest)\n",
    "library(stringr)\n",
    "library(DBI)\n",
    "library(dbplyr)\n",
    "library(GGally)\n",
    "options(repr.matrix.max.rows = 10)"
   ]
  },
  {
   "cell_type": "code",
   "execution_count": 2,
   "metadata": {},
   "outputs": [
    {
     "name": "stderr",
     "output_type": "stream",
     "text": [
      "Parsed with column specification:\n",
      "cols(\n",
      "  age = \u001b[32mcol_double()\u001b[39m,\n",
      "  sex = \u001b[32mcol_double()\u001b[39m,\n",
      "  cp = \u001b[32mcol_double()\u001b[39m,\n",
      "  trestbps = \u001b[32mcol_double()\u001b[39m,\n",
      "  chol = \u001b[32mcol_double()\u001b[39m,\n",
      "  fbs = \u001b[32mcol_double()\u001b[39m,\n",
      "  restercg = \u001b[32mcol_double()\u001b[39m,\n",
      "  thalach = \u001b[32mcol_double()\u001b[39m,\n",
      "  exang = \u001b[32mcol_double()\u001b[39m,\n",
      "  oldpeak = \u001b[32mcol_double()\u001b[39m,\n",
      "  slope = \u001b[32mcol_double()\u001b[39m,\n",
      "  ca = \u001b[31mcol_character()\u001b[39m,\n",
      "  thal = \u001b[31mcol_character()\u001b[39m,\n",
      "  num = \u001b[32mcol_double()\u001b[39m\n",
      ")\n",
      "\n"
     ]
    },
    {
     "data": {
      "text/html": [
       "<table>\n",
       "<caption>A tibble: 6 × 14</caption>\n",
       "<thead>\n",
       "\t<tr><th scope=col>age</th><th scope=col>sex</th><th scope=col>cp</th><th scope=col>trestbps</th><th scope=col>chol</th><th scope=col>fbs</th><th scope=col>restercg</th><th scope=col>thalach</th><th scope=col>exang</th><th scope=col>oldpeak</th><th scope=col>slope</th><th scope=col>ca</th><th scope=col>thal</th><th scope=col>num</th></tr>\n",
       "\t<tr><th scope=col>&lt;dbl&gt;</th><th scope=col>&lt;dbl&gt;</th><th scope=col>&lt;dbl&gt;</th><th scope=col>&lt;dbl&gt;</th><th scope=col>&lt;dbl&gt;</th><th scope=col>&lt;dbl&gt;</th><th scope=col>&lt;dbl&gt;</th><th scope=col>&lt;dbl&gt;</th><th scope=col>&lt;dbl&gt;</th><th scope=col>&lt;dbl&gt;</th><th scope=col>&lt;dbl&gt;</th><th scope=col>&lt;chr&gt;</th><th scope=col>&lt;chr&gt;</th><th scope=col>&lt;fct&gt;</th></tr>\n",
       "</thead>\n",
       "<tbody>\n",
       "\t<tr><td>63</td><td>1</td><td>1</td><td>145</td><td>233</td><td>1</td><td>2</td><td>150</td><td>0</td><td>2.3</td><td>3</td><td>0.0</td><td>6.0</td><td>0</td></tr>\n",
       "\t<tr><td>67</td><td>1</td><td>4</td><td>160</td><td>286</td><td>0</td><td>2</td><td>108</td><td>1</td><td>1.5</td><td>2</td><td>3.0</td><td>3.0</td><td>2</td></tr>\n",
       "\t<tr><td>67</td><td>1</td><td>4</td><td>120</td><td>229</td><td>0</td><td>2</td><td>129</td><td>1</td><td>2.6</td><td>2</td><td>2.0</td><td>7.0</td><td>1</td></tr>\n",
       "\t<tr><td>37</td><td>1</td><td>3</td><td>130</td><td>250</td><td>0</td><td>0</td><td>187</td><td>0</td><td>3.5</td><td>3</td><td>0.0</td><td>3.0</td><td>0</td></tr>\n",
       "\t<tr><td>41</td><td>0</td><td>2</td><td>130</td><td>204</td><td>0</td><td>2</td><td>172</td><td>0</td><td>1.4</td><td>1</td><td>0.0</td><td>3.0</td><td>0</td></tr>\n",
       "\t<tr><td>56</td><td>1</td><td>2</td><td>120</td><td>236</td><td>0</td><td>0</td><td>178</td><td>0</td><td>0.8</td><td>1</td><td>0.0</td><td>3.0</td><td>0</td></tr>\n",
       "</tbody>\n",
       "</table>\n"
      ],
      "text/latex": [
       "A tibble: 6 × 14\n",
       "\\begin{tabular}{llllllllllllll}\n",
       " age & sex & cp & trestbps & chol & fbs & restercg & thalach & exang & oldpeak & slope & ca & thal & num\\\\\n",
       " <dbl> & <dbl> & <dbl> & <dbl> & <dbl> & <dbl> & <dbl> & <dbl> & <dbl> & <dbl> & <dbl> & <chr> & <chr> & <fct>\\\\\n",
       "\\hline\n",
       "\t 63 & 1 & 1 & 145 & 233 & 1 & 2 & 150 & 0 & 2.3 & 3 & 0.0 & 6.0 & 0\\\\\n",
       "\t 67 & 1 & 4 & 160 & 286 & 0 & 2 & 108 & 1 & 1.5 & 2 & 3.0 & 3.0 & 2\\\\\n",
       "\t 67 & 1 & 4 & 120 & 229 & 0 & 2 & 129 & 1 & 2.6 & 2 & 2.0 & 7.0 & 1\\\\\n",
       "\t 37 & 1 & 3 & 130 & 250 & 0 & 0 & 187 & 0 & 3.5 & 3 & 0.0 & 3.0 & 0\\\\\n",
       "\t 41 & 0 & 2 & 130 & 204 & 0 & 2 & 172 & 0 & 1.4 & 1 & 0.0 & 3.0 & 0\\\\\n",
       "\t 56 & 1 & 2 & 120 & 236 & 0 & 0 & 178 & 0 & 0.8 & 1 & 0.0 & 3.0 & 0\\\\\n",
       "\\end{tabular}\n"
      ],
      "text/markdown": [
       "\n",
       "A tibble: 6 × 14\n",
       "\n",
       "| age &lt;dbl&gt; | sex &lt;dbl&gt; | cp &lt;dbl&gt; | trestbps &lt;dbl&gt; | chol &lt;dbl&gt; | fbs &lt;dbl&gt; | restercg &lt;dbl&gt; | thalach &lt;dbl&gt; | exang &lt;dbl&gt; | oldpeak &lt;dbl&gt; | slope &lt;dbl&gt; | ca &lt;chr&gt; | thal &lt;chr&gt; | num &lt;fct&gt; |\n",
       "|---|---|---|---|---|---|---|---|---|---|---|---|---|---|\n",
       "| 63 | 1 | 1 | 145 | 233 | 1 | 2 | 150 | 0 | 2.3 | 3 | 0.0 | 6.0 | 0 |\n",
       "| 67 | 1 | 4 | 160 | 286 | 0 | 2 | 108 | 1 | 1.5 | 2 | 3.0 | 3.0 | 2 |\n",
       "| 67 | 1 | 4 | 120 | 229 | 0 | 2 | 129 | 1 | 2.6 | 2 | 2.0 | 7.0 | 1 |\n",
       "| 37 | 1 | 3 | 130 | 250 | 0 | 0 | 187 | 0 | 3.5 | 3 | 0.0 | 3.0 | 0 |\n",
       "| 41 | 0 | 2 | 130 | 204 | 0 | 2 | 172 | 0 | 1.4 | 1 | 0.0 | 3.0 | 0 |\n",
       "| 56 | 1 | 2 | 120 | 236 | 0 | 0 | 178 | 0 | 0.8 | 1 | 0.0 | 3.0 | 0 |\n",
       "\n"
      ],
      "text/plain": [
       "  age sex cp trestbps chol fbs restercg thalach exang oldpeak slope ca  thal\n",
       "1 63  1   1  145      233  1   2        150     0     2.3     3     0.0 6.0 \n",
       "2 67  1   4  160      286  0   2        108     1     1.5     2     3.0 3.0 \n",
       "3 67  1   4  120      229  0   2        129     1     2.6     2     2.0 7.0 \n",
       "4 37  1   3  130      250  0   0        187     0     3.5     3     0.0 3.0 \n",
       "5 41  0   2  130      204  0   2        172     0     1.4     1     0.0 3.0 \n",
       "6 56  1   2  120      236  0   0        178     0     0.8     1     0.0 3.0 \n",
       "  num\n",
       "1 0  \n",
       "2 2  \n",
       "3 1  \n",
       "4 0  \n",
       "5 0  \n",
       "6 0  "
      ]
     },
     "metadata": {},
     "output_type": "display_data"
    }
   ],
   "source": [
    "# Data Loaded \n",
    "\n",
    "cleveland_data <- read_csv(\"https://archive.ics.uci.edu/ml/machine-learning-databases/heart-disease/processed.cleveland.data\", \n",
    "                           col_names = c(\"age\", \n",
    "                                         \"sex\", \n",
    "                                         \"cp\", \n",
    "                                         \"trestbps\", \n",
    "                                         \"chol\", \n",
    "                                         \"fbs\", \n",
    "                                         \"restercg\", \n",
    "                                         \"thalach\", \n",
    "                                         \"exang\", \n",
    "                                         \"oldpeak\", \n",
    "                                         \"slope\", \n",
    "                                         \"ca\", \n",
    "                                         \"thal\", \n",
    "                                         \"num\"))\n",
    "cleveland_data$num <- as.factor(cleveland_data$num)\n",
    "head(cleveland_data)"
   ]
  },
  {
   "cell_type": "code",
   "execution_count": 5,
   "metadata": {},
   "outputs": [
    {
     "data": {
      "text/html": [
       "<style>\n",
       ".list-inline {list-style: none; margin:0; padding: 0}\n",
       ".list-inline>li {display: inline-block}\n",
       ".list-inline>li:not(:last-child)::after {content: \"\\00b7\"; padding: 0 .5ex}\n",
       "</style>\n",
       "<ol class=list-inline><li>'0'</li><li>'1'</li><li>'2'</li><li>'3'</li><li>'4'</li></ol>\n"
      ],
      "text/latex": [
       "\\begin{enumerate*}\n",
       "\\item '0'\n",
       "\\item '1'\n",
       "\\item '2'\n",
       "\\item '3'\n",
       "\\item '4'\n",
       "\\end{enumerate*}\n"
      ],
      "text/markdown": [
       "1. '0'\n",
       "2. '1'\n",
       "3. '2'\n",
       "4. '3'\n",
       "5. '4'\n",
       "\n",
       "\n"
      ],
      "text/plain": [
       "[1] \"0\" \"1\" \"2\" \"3\" \"4\""
      ]
     },
     "metadata": {},
     "output_type": "display_data"
    },
    {
     "data": {
      "text/html": [
       "<table>\n",
       "<caption>A tibble: 6 × 15</caption>\n",
       "<thead>\n",
       "\t<tr><th scope=col>age</th><th scope=col>sex</th><th scope=col>cp</th><th scope=col>trestbps</th><th scope=col>chol</th><th scope=col>fbs</th><th scope=col>restercg</th><th scope=col>thalach</th><th scope=col>exang</th><th scope=col>oldpeak</th><th scope=col>slope</th><th scope=col>ca</th><th scope=col>thal</th><th scope=col>num</th><th scope=col>diagnosis</th></tr>\n",
       "\t<tr><th scope=col>&lt;dbl&gt;</th><th scope=col>&lt;dbl&gt;</th><th scope=col>&lt;dbl&gt;</th><th scope=col>&lt;dbl&gt;</th><th scope=col>&lt;dbl&gt;</th><th scope=col>&lt;dbl&gt;</th><th scope=col>&lt;dbl&gt;</th><th scope=col>&lt;dbl&gt;</th><th scope=col>&lt;dbl&gt;</th><th scope=col>&lt;dbl&gt;</th><th scope=col>&lt;dbl&gt;</th><th scope=col>&lt;chr&gt;</th><th scope=col>&lt;chr&gt;</th><th scope=col>&lt;fct&gt;</th><th scope=col>&lt;fct&gt;</th></tr>\n",
       "</thead>\n",
       "<tbody>\n",
       "\t<tr><td>63</td><td>1</td><td>1</td><td>145</td><td>233</td><td>1</td><td>2</td><td>150</td><td>0</td><td>2.3</td><td>3</td><td>0.0</td><td>6.0</td><td>0</td><td>absent </td></tr>\n",
       "\t<tr><td>67</td><td>1</td><td>4</td><td>160</td><td>286</td><td>0</td><td>2</td><td>108</td><td>1</td><td>1.5</td><td>2</td><td>3.0</td><td>3.0</td><td>2</td><td>present</td></tr>\n",
       "\t<tr><td>67</td><td>1</td><td>4</td><td>120</td><td>229</td><td>0</td><td>2</td><td>129</td><td>1</td><td>2.6</td><td>2</td><td>2.0</td><td>7.0</td><td>1</td><td>present</td></tr>\n",
       "\t<tr><td>37</td><td>1</td><td>3</td><td>130</td><td>250</td><td>0</td><td>0</td><td>187</td><td>0</td><td>3.5</td><td>3</td><td>0.0</td><td>3.0</td><td>0</td><td>absent </td></tr>\n",
       "\t<tr><td>41</td><td>0</td><td>2</td><td>130</td><td>204</td><td>0</td><td>2</td><td>172</td><td>0</td><td>1.4</td><td>1</td><td>0.0</td><td>3.0</td><td>0</td><td>absent </td></tr>\n",
       "\t<tr><td>56</td><td>1</td><td>2</td><td>120</td><td>236</td><td>0</td><td>0</td><td>178</td><td>0</td><td>0.8</td><td>1</td><td>0.0</td><td>3.0</td><td>0</td><td>absent </td></tr>\n",
       "</tbody>\n",
       "</table>\n"
      ],
      "text/latex": [
       "A tibble: 6 × 15\n",
       "\\begin{tabular}{lllllllllllllll}\n",
       " age & sex & cp & trestbps & chol & fbs & restercg & thalach & exang & oldpeak & slope & ca & thal & num & diagnosis\\\\\n",
       " <dbl> & <dbl> & <dbl> & <dbl> & <dbl> & <dbl> & <dbl> & <dbl> & <dbl> & <dbl> & <dbl> & <chr> & <chr> & <fct> & <fct>\\\\\n",
       "\\hline\n",
       "\t 63 & 1 & 1 & 145 & 233 & 1 & 2 & 150 & 0 & 2.3 & 3 & 0.0 & 6.0 & 0 & absent \\\\\n",
       "\t 67 & 1 & 4 & 160 & 286 & 0 & 2 & 108 & 1 & 1.5 & 2 & 3.0 & 3.0 & 2 & present\\\\\n",
       "\t 67 & 1 & 4 & 120 & 229 & 0 & 2 & 129 & 1 & 2.6 & 2 & 2.0 & 7.0 & 1 & present\\\\\n",
       "\t 37 & 1 & 3 & 130 & 250 & 0 & 0 & 187 & 0 & 3.5 & 3 & 0.0 & 3.0 & 0 & absent \\\\\n",
       "\t 41 & 0 & 2 & 130 & 204 & 0 & 2 & 172 & 0 & 1.4 & 1 & 0.0 & 3.0 & 0 & absent \\\\\n",
       "\t 56 & 1 & 2 & 120 & 236 & 0 & 0 & 178 & 0 & 0.8 & 1 & 0.0 & 3.0 & 0 & absent \\\\\n",
       "\\end{tabular}\n"
      ],
      "text/markdown": [
       "\n",
       "A tibble: 6 × 15\n",
       "\n",
       "| age &lt;dbl&gt; | sex &lt;dbl&gt; | cp &lt;dbl&gt; | trestbps &lt;dbl&gt; | chol &lt;dbl&gt; | fbs &lt;dbl&gt; | restercg &lt;dbl&gt; | thalach &lt;dbl&gt; | exang &lt;dbl&gt; | oldpeak &lt;dbl&gt; | slope &lt;dbl&gt; | ca &lt;chr&gt; | thal &lt;chr&gt; | num &lt;fct&gt; | diagnosis &lt;fct&gt; |\n",
       "|---|---|---|---|---|---|---|---|---|---|---|---|---|---|---|\n",
       "| 63 | 1 | 1 | 145 | 233 | 1 | 2 | 150 | 0 | 2.3 | 3 | 0.0 | 6.0 | 0 | absent  |\n",
       "| 67 | 1 | 4 | 160 | 286 | 0 | 2 | 108 | 1 | 1.5 | 2 | 3.0 | 3.0 | 2 | present |\n",
       "| 67 | 1 | 4 | 120 | 229 | 0 | 2 | 129 | 1 | 2.6 | 2 | 2.0 | 7.0 | 1 | present |\n",
       "| 37 | 1 | 3 | 130 | 250 | 0 | 0 | 187 | 0 | 3.5 | 3 | 0.0 | 3.0 | 0 | absent  |\n",
       "| 41 | 0 | 2 | 130 | 204 | 0 | 2 | 172 | 0 | 1.4 | 1 | 0.0 | 3.0 | 0 | absent  |\n",
       "| 56 | 1 | 2 | 120 | 236 | 0 | 0 | 178 | 0 | 0.8 | 1 | 0.0 | 3.0 | 0 | absent  |\n",
       "\n"
      ],
      "text/plain": [
       "  age sex cp trestbps chol fbs restercg thalach exang oldpeak slope ca  thal\n",
       "1 63  1   1  145      233  1   2        150     0     2.3     3     0.0 6.0 \n",
       "2 67  1   4  160      286  0   2        108     1     1.5     2     3.0 3.0 \n",
       "3 67  1   4  120      229  0   2        129     1     2.6     2     2.0 7.0 \n",
       "4 37  1   3  130      250  0   0        187     0     3.5     3     0.0 3.0 \n",
       "5 41  0   2  130      204  0   2        172     0     1.4     1     0.0 3.0 \n",
       "6 56  1   2  120      236  0   0        178     0     0.8     1     0.0 3.0 \n",
       "  num diagnosis\n",
       "1 0   absent   \n",
       "2 2   present  \n",
       "3 1   present  \n",
       "4 0   absent   \n",
       "5 0   absent   \n",
       "6 0   absent   "
      ]
     },
     "metadata": {},
     "output_type": "display_data"
    },
    {
     "name": "stderr",
     "output_type": "stream",
     "text": [
      "`summarise()` ungrouping output (override with `.groups` argument)\n",
      "\n"
     ]
    },
    {
     "data": {
      "text/html": [
       "<table>\n",
       "<caption>A tibble: 2 × 2</caption>\n",
       "<thead>\n",
       "\t<tr><th scope=col>diagnosis</th><th scope=col>n</th></tr>\n",
       "\t<tr><th scope=col>&lt;fct&gt;</th><th scope=col>&lt;int&gt;</th></tr>\n",
       "</thead>\n",
       "<tbody>\n",
       "\t<tr><td>absent </td><td>164</td></tr>\n",
       "\t<tr><td>present</td><td>139</td></tr>\n",
       "</tbody>\n",
       "</table>\n"
      ],
      "text/latex": [
       "A tibble: 2 × 2\n",
       "\\begin{tabular}{ll}\n",
       " diagnosis & n\\\\\n",
       " <fct> & <int>\\\\\n",
       "\\hline\n",
       "\t absent  & 164\\\\\n",
       "\t present & 139\\\\\n",
       "\\end{tabular}\n"
      ],
      "text/markdown": [
       "\n",
       "A tibble: 2 × 2\n",
       "\n",
       "| diagnosis &lt;fct&gt; | n &lt;int&gt; |\n",
       "|---|---|\n",
       "| absent  | 164 |\n",
       "| present | 139 |\n",
       "\n"
      ],
      "text/plain": [
       "  diagnosis n  \n",
       "1 absent    164\n",
       "2 present   139"
      ]
     },
     "metadata": {},
     "output_type": "display_data"
    },
    {
     "data": {
      "text/html": [
       "<table>\n",
       "<caption>A tibble: 6 × 7</caption>\n",
       "<thead>\n",
       "\t<tr><th scope=col>age</th><th scope=col>trestbps</th><th scope=col>chol</th><th scope=col>thalach</th><th scope=col>oldpeak</th><th scope=col>diagnosis</th><th scope=col>num</th></tr>\n",
       "\t<tr><th scope=col>&lt;dbl&gt;</th><th scope=col>&lt;dbl&gt;</th><th scope=col>&lt;dbl&gt;</th><th scope=col>&lt;dbl&gt;</th><th scope=col>&lt;dbl&gt;</th><th scope=col>&lt;fct&gt;</th><th scope=col>&lt;fct&gt;</th></tr>\n",
       "</thead>\n",
       "<tbody>\n",
       "\t<tr><td>63</td><td>145</td><td>233</td><td>150</td><td>2.3</td><td>absent </td><td>0</td></tr>\n",
       "\t<tr><td>67</td><td>160</td><td>286</td><td>108</td><td>1.5</td><td>present</td><td>2</td></tr>\n",
       "\t<tr><td>67</td><td>120</td><td>229</td><td>129</td><td>2.6</td><td>present</td><td>1</td></tr>\n",
       "\t<tr><td>37</td><td>130</td><td>250</td><td>187</td><td>3.5</td><td>absent </td><td>0</td></tr>\n",
       "\t<tr><td>41</td><td>130</td><td>204</td><td>172</td><td>1.4</td><td>absent </td><td>0</td></tr>\n",
       "\t<tr><td>56</td><td>120</td><td>236</td><td>178</td><td>0.8</td><td>absent </td><td>0</td></tr>\n",
       "</tbody>\n",
       "</table>\n"
      ],
      "text/latex": [
       "A tibble: 6 × 7\n",
       "\\begin{tabular}{lllllll}\n",
       " age & trestbps & chol & thalach & oldpeak & diagnosis & num\\\\\n",
       " <dbl> & <dbl> & <dbl> & <dbl> & <dbl> & <fct> & <fct>\\\\\n",
       "\\hline\n",
       "\t 63 & 145 & 233 & 150 & 2.3 & absent  & 0\\\\\n",
       "\t 67 & 160 & 286 & 108 & 1.5 & present & 2\\\\\n",
       "\t 67 & 120 & 229 & 129 & 2.6 & present & 1\\\\\n",
       "\t 37 & 130 & 250 & 187 & 3.5 & absent  & 0\\\\\n",
       "\t 41 & 130 & 204 & 172 & 1.4 & absent  & 0\\\\\n",
       "\t 56 & 120 & 236 & 178 & 0.8 & absent  & 0\\\\\n",
       "\\end{tabular}\n"
      ],
      "text/markdown": [
       "\n",
       "A tibble: 6 × 7\n",
       "\n",
       "| age &lt;dbl&gt; | trestbps &lt;dbl&gt; | chol &lt;dbl&gt; | thalach &lt;dbl&gt; | oldpeak &lt;dbl&gt; | diagnosis &lt;fct&gt; | num &lt;fct&gt; |\n",
       "|---|---|---|---|---|---|---|\n",
       "| 63 | 145 | 233 | 150 | 2.3 | absent  | 0 |\n",
       "| 67 | 160 | 286 | 108 | 1.5 | present | 2 |\n",
       "| 67 | 120 | 229 | 129 | 2.6 | present | 1 |\n",
       "| 37 | 130 | 250 | 187 | 3.5 | absent  | 0 |\n",
       "| 41 | 130 | 204 | 172 | 1.4 | absent  | 0 |\n",
       "| 56 | 120 | 236 | 178 | 0.8 | absent  | 0 |\n",
       "\n"
      ],
      "text/plain": [
       "  age trestbps chol thalach oldpeak diagnosis num\n",
       "1 63  145      233  150     2.3     absent    0  \n",
       "2 67  160      286  108     1.5     present   2  \n",
       "3 67  120      229  129     2.6     present   1  \n",
       "4 37  130      250  187     3.5     absent    0  \n",
       "5 41  130      204  172     1.4     absent    0  \n",
       "6 56  120      236  178     0.8     absent    0  "
      ]
     },
     "metadata": {},
     "output_type": "display_data"
    }
   ],
   "source": [
    "# see if there is other number rather than 0-4 in the num column\n",
    "cleveland_data  %>%\n",
    "    select(num)  %>% \n",
    "    unlist() %>% \n",
    "    levels()\n",
    "\n",
    "# transform num from 0-4 to 0 or 1 (1, 2, 3, 4) and store into diagnosis variable\n",
    "cleveland_data <- cleveland_data %>%\n",
    "                  mutate(diagnosis = dplyr::recode(num, '0' = 'absent', .default = 'present'))\n",
    "\n",
    "head(cleveland_data)\n",
    "\n",
    "# to see how the original data distribute\n",
    "cleveland_data %>% \n",
    "    group_by(diagnosis) %>%\n",
    "    summarize(n = n())\n",
    "\n",
    "# We select all the numerical columns and diagnosis column\n",
    "cleveland_data2 <- cleveland_data%>%\n",
    "            select(age, trestbps, chol, thalach, oldpeak, diagnosis,num)\n",
    "head(cleveland_data2)\n",
    "\n",
    "heart_tidy <- cleveland_data2\n",
    "\n",
    "# Above codes are from the proposal, with the tidy dataset cleveland_data2 renamed as heart_tidy"
   ]
  },
  {
   "cell_type": "markdown",
   "metadata": {},
   "source": [
    "# Training and Testing Datasets"
   ]
  },
  {
   "cell_type": "markdown",
   "metadata": {},
   "source": [
    "Before we begin exploratory data analysis, we must divide our data into training and testing, with 75 percent of the data in the training set and 25% in the testing set. This split allows a large enough training set to build an accurate model while leaving enough data in the test set to assess the model's performance accurately. We will use our training data in the following steps, going with the testing data to be used later to determine the validity and accuracy of our model."
   ]
  },
  {
   "cell_type": "code",
   "execution_count": 6,
   "metadata": {},
   "outputs": [
    {
     "data": {
      "text/html": [
       "<table>\n",
       "<caption>A tibble: 228 × 7</caption>\n",
       "<thead>\n",
       "\t<tr><th scope=col>age</th><th scope=col>trestbps</th><th scope=col>chol</th><th scope=col>thalach</th><th scope=col>oldpeak</th><th scope=col>diagnosis</th><th scope=col>num</th></tr>\n",
       "\t<tr><th scope=col>&lt;dbl&gt;</th><th scope=col>&lt;dbl&gt;</th><th scope=col>&lt;dbl&gt;</th><th scope=col>&lt;dbl&gt;</th><th scope=col>&lt;dbl&gt;</th><th scope=col>&lt;fct&gt;</th><th scope=col>&lt;fct&gt;</th></tr>\n",
       "</thead>\n",
       "<tbody>\n",
       "\t<tr><td>63</td><td>145</td><td>233</td><td>150</td><td>2.3</td><td>absent </td><td>0</td></tr>\n",
       "\t<tr><td>67</td><td>160</td><td>286</td><td>108</td><td>1.5</td><td>present</td><td>2</td></tr>\n",
       "\t<tr><td>41</td><td>130</td><td>204</td><td>172</td><td>1.4</td><td>absent </td><td>0</td></tr>\n",
       "\t<tr><td>56</td><td>120</td><td>236</td><td>178</td><td>0.8</td><td>absent </td><td>0</td></tr>\n",
       "\t<tr><td>57</td><td>120</td><td>354</td><td>163</td><td>0.6</td><td>absent </td><td>0</td></tr>\n",
       "\t<tr><td>⋮</td><td>⋮</td><td>⋮</td><td>⋮</td><td>⋮</td><td>⋮</td><td>⋮</td></tr>\n",
       "\t<tr><td>45</td><td>110</td><td>264</td><td>132</td><td>1.2</td><td>present</td><td>1</td></tr>\n",
       "\t<tr><td>68</td><td>144</td><td>193</td><td>141</td><td>3.4</td><td>present</td><td>2</td></tr>\n",
       "\t<tr><td>57</td><td>130</td><td>131</td><td>115</td><td>1.2</td><td>present</td><td>3</td></tr>\n",
       "\t<tr><td>57</td><td>130</td><td>236</td><td>174</td><td>0.0</td><td>present</td><td>1</td></tr>\n",
       "\t<tr><td>38</td><td>138</td><td>175</td><td>173</td><td>0.0</td><td>absent </td><td>0</td></tr>\n",
       "</tbody>\n",
       "</table>\n"
      ],
      "text/latex": [
       "A tibble: 228 × 7\n",
       "\\begin{tabular}{lllllll}\n",
       " age & trestbps & chol & thalach & oldpeak & diagnosis & num\\\\\n",
       " <dbl> & <dbl> & <dbl> & <dbl> & <dbl> & <fct> & <fct>\\\\\n",
       "\\hline\n",
       "\t 63 & 145 & 233 & 150 & 2.3 & absent  & 0\\\\\n",
       "\t 67 & 160 & 286 & 108 & 1.5 & present & 2\\\\\n",
       "\t 41 & 130 & 204 & 172 & 1.4 & absent  & 0\\\\\n",
       "\t 56 & 120 & 236 & 178 & 0.8 & absent  & 0\\\\\n",
       "\t 57 & 120 & 354 & 163 & 0.6 & absent  & 0\\\\\n",
       "\t ⋮ & ⋮ & ⋮ & ⋮ & ⋮ & ⋮ & ⋮\\\\\n",
       "\t 45 & 110 & 264 & 132 & 1.2 & present & 1\\\\\n",
       "\t 68 & 144 & 193 & 141 & 3.4 & present & 2\\\\\n",
       "\t 57 & 130 & 131 & 115 & 1.2 & present & 3\\\\\n",
       "\t 57 & 130 & 236 & 174 & 0.0 & present & 1\\\\\n",
       "\t 38 & 138 & 175 & 173 & 0.0 & absent  & 0\\\\\n",
       "\\end{tabular}\n"
      ],
      "text/markdown": [
       "\n",
       "A tibble: 228 × 7\n",
       "\n",
       "| age &lt;dbl&gt; | trestbps &lt;dbl&gt; | chol &lt;dbl&gt; | thalach &lt;dbl&gt; | oldpeak &lt;dbl&gt; | diagnosis &lt;fct&gt; | num &lt;fct&gt; |\n",
       "|---|---|---|---|---|---|---|\n",
       "| 63 | 145 | 233 | 150 | 2.3 | absent  | 0 |\n",
       "| 67 | 160 | 286 | 108 | 1.5 | present | 2 |\n",
       "| 41 | 130 | 204 | 172 | 1.4 | absent  | 0 |\n",
       "| 56 | 120 | 236 | 178 | 0.8 | absent  | 0 |\n",
       "| 57 | 120 | 354 | 163 | 0.6 | absent  | 0 |\n",
       "| ⋮ | ⋮ | ⋮ | ⋮ | ⋮ | ⋮ | ⋮ |\n",
       "| 45 | 110 | 264 | 132 | 1.2 | present | 1 |\n",
       "| 68 | 144 | 193 | 141 | 3.4 | present | 2 |\n",
       "| 57 | 130 | 131 | 115 | 1.2 | present | 3 |\n",
       "| 57 | 130 | 236 | 174 | 0.0 | present | 1 |\n",
       "| 38 | 138 | 175 | 173 | 0.0 | absent  | 0 |\n",
       "\n"
      ],
      "text/plain": [
       "    age trestbps chol thalach oldpeak diagnosis num\n",
       "1   63  145      233  150     2.3     absent    0  \n",
       "2   67  160      286  108     1.5     present   2  \n",
       "3   41  130      204  172     1.4     absent    0  \n",
       "4   56  120      236  178     0.8     absent    0  \n",
       "5   57  120      354  163     0.6     absent    0  \n",
       "⋮   ⋮   ⋮        ⋮    ⋮       ⋮       ⋮         ⋮  \n",
       "224 45  110      264  132     1.2     present   1  \n",
       "225 68  144      193  141     3.4     present   2  \n",
       "226 57  130      131  115     1.2     present   3  \n",
       "227 57  130      236  174     0.0     present   1  \n",
       "228 38  138      175  173     0.0     absent    0  "
      ]
     },
     "metadata": {},
     "output_type": "display_data"
    }
   ],
   "source": [
    "# We will use KNN Classification with 10 folds cross-validation for choosing the appropriate k value. The resulting accuracy will be calculated\n",
    "\n",
    "# Splitting the data to training and testing data\n",
    "\n",
    "heart_split <- initial_split(heart_tidy, prop = 0.75, strata = diagnosis)\n",
    "heart_train <- training(heart_split)\n",
    "heart_test <- testing(heart_split)\n",
    "heart_train\n"
   ]
  },
  {
   "cell_type": "markdown",
   "metadata": {},
   "source": [
    "# Tuning the Classifier"
   ]
  },
  {
   "cell_type": "markdown",
   "metadata": {},
   "source": [
    "In order to build our classification model, we need to use the tidy model's package's k nearest neighbors capacity and modify it to get the best value for the parameter k. (the number of neighbors considered in the class vote).\n",
    "\n",
    "We start by assigning the tune() function to the parameter value k in the knn classification model specification we'll use for tuning. Then weset up a range of 1 -23 to test wich is the best value for k in this range, \n",
    "\n",
    "We got a graph to campare the effects of different varaibles of the prediction. We used that graph to find the 3 varaibles to get the highest accuracy.\n",
    "\n",
    "In a workflow, we connect our model specification with the scaling formula that was previously defined. Then, the tune grid function fits the model to each value in our parameter range."
   ]
  },
  {
   "cell_type": "code",
   "execution_count": 69,
   "metadata": {},
   "outputs": [],
   "source": [
    "# Perform 10 folds Cross-Validation for heart_train dataset to choose appropriate k\n",
    "set.seed(2022)\n",
    "heart_10fold <- vfold_cv(heart_train, v=10, strata = diagnosis)"
   ]
  },
  {
   "cell_type": "code",
   "execution_count": 70,
   "metadata": {},
   "outputs": [],
   "source": [
    "set.seed(2022)\n",
    "knn_spec <- nearest_neighbor(weight_func = \"rectangular\", neighbor = tune()) %>%\n",
    "            set_engine(\"kknn\") %>%\n",
    "            set_mode(\"classification\")"
   ]
  },
  {
   "cell_type": "code",
   "execution_count": 71,
   "metadata": {},
   "outputs": [],
   "source": [
    "knn_recipe <- recipe(diagnosis ~ chol + thalach + oldpeak, data = heart_train) %>% # Important !!!!!!!!!!!! Using only 3 predictors (chol,thalach, oldpeak) will gain the max accuracy\n",
    "            step_center(all_predictors()) %>%\n",
    "            step_scale(all_predictors())"
   ]
  },
  {
   "cell_type": "code",
   "execution_count": 72,
   "metadata": {},
   "outputs": [],
   "source": [
    "heart_workflow <- workflow() %>%\n",
    "                add_model(knn_spec) %>%\n",
    "                add_recipe(knn_recipe)"
   ]
  },
  {
   "cell_type": "code",
   "execution_count": 73,
   "metadata": {},
   "outputs": [],
   "source": [
    "gridvals <- tibble(neighbors = seq(from = 1, to = 23))\n",
    "heart_result <- heart_workflow %>%\n",
    "                tune_grid(resamples = heart_10fold, grid = gridvals) %>%\n",
    "                collect_metrics() "
   ]
  },
  {
   "cell_type": "markdown",
   "metadata": {},
   "source": [
    "# Chosing the model"
   ]
  },
  {
   "cell_type": "code",
   "execution_count": 62,
   "metadata": {},
   "outputs": [
    {
     "ename": "ERROR",
     "evalue": "Error in for (pred in predictors) {: invalid for() loop sequence\n",
     "output_type": "error",
     "traceback": [
      "Error in for (pred in predictors) {: invalid for() loop sequence\nTraceback:\n"
     ]
    }
   ],
   "source": [
    "set.seed(1)\n",
    "\n",
    "cleveland_data3 <- cleveland_data %>%\n",
    "            filter(!is.na(chol))%>%\n",
    "            select(age, trestbps, chol, thalach, oldpeak, num)\n",
    "\n",
    "heart_split <- initial_split(cleveland_data3, prop = 0.75, strata = num)\n",
    "heart_train <- training(heart_split)\n",
    "heart_test <- testing(heart_split)\n",
    "\n",
    "# Create list of all predictors that we want to iterate through\n",
    "lm_predictors <- c(\n",
    "    'age', 'trestbps', 'chol', 'thalach', 'oldpeak', 'num'\n",
    ")\n",
    "\n",
    "# setup results dataframe. Will have rows for each predictor and resulting RMSPE\n",
    "results <- tibble()\n",
    "results <- mutate(results, predictor = \"\", best_k = 0, rmspe = 0)\n",
    "\n",
    "for (pred in predictors) {\n",
    "\n",
    "    print(pred)\n",
    "    \n",
    "\n",
    "    train_data <- heart_train %>%\n",
    "        select(num, all_of(pred))\n",
    "    \n",
    "    test_data <- heart_test %>%\n",
    "        select(num, all_of(pred))\n",
    "    \n",
    "    heart_recipe <- recipe(num ~ ., data = train_data) %>%\n",
    "       step_scale(all_predictors()) %>%\n",
    "       step_center(all_predictors())\n",
    "    \n",
    "    heart_spec <- nearest_neighbor(weight_func = \"rectangular\", neighbors = tune()) %>%\n",
    "       set_engine(\"kknn\") %>%\n",
    "       set_mode(\"regression\")\n",
    "    \n",
    "    heart_vfold <- vfold_cv(train_data, v = 5, strata = num)\n",
    "    \n",
    "    heart_workflow <- workflow() %>%\n",
    "       add_recipe(heart_recipe) %>%\n",
    "       add_model(heart_spec)\n",
    "    \n",
    "    gridvals <- tibble(neighbors = seq(1,40))\n",
    "    \n",
    "    heart_results <- heart_workflow %>%\n",
    "       tune_grid(resamples = heart_vfold, grid = gridvals) %>%\n",
    "       collect_metrics() %>%\n",
    "       filter(.metric == \"rmse\") %>%\n",
    "       filter(mean == min(mean))\n",
    "    \n",
    "    kmin <- pull(heart_results, neighbors)\n",
    "    \n",
    "    heart_spec_kmin <- nearest_neighbor(weight_func = \"rectangular\", neighbors = kmin) %>%\n",
    "       set_engine(\"kknn\") %>%\n",
    "       set_mode(\"regression\")\n",
    "    \n",
    "    heart_fit <- workflow() %>%\n",
    "       add_recipe(heart_recipe) %>%\n",
    "       add_model(heart_spec_kmin) %>%\n",
    "       fit(data = train_data)\n",
    "    \n",
    "    rmspe_val <- heart_fit %>%\n",
    "       predict(test_data) %>%\n",
    "       bind_cols(test_data) %>%\n",
    "       metrics(truth = num, estimate = .pred) %>%\n",
    "       filter(.metric == \"rmse\") %>%\n",
    "       select(.estimate) %>%\n",
    "       pull()\n",
    "    \n",
    "    # Append predictor, best k, and rmspe value to the results dataframe\n",
    "    results <- results %>%\n",
    "        add_row(predictor = pred, best_k=kmin, rmspe = rmspe_val)\n",
    "}\n"
   ]
  },
  {
   "cell_type": "code",
   "execution_count": 61,
   "metadata": {},
   "outputs": [
    {
     "data": {
      "text/html": [
       "<table>\n",
       "<caption>A tibble: 0 × 3</caption>\n",
       "<thead>\n",
       "\t<tr><th scope=col>predictor</th><th scope=col>best_k</th><th scope=col>rmspe</th></tr>\n",
       "\t<tr><th scope=col>&lt;chr&gt;</th><th scope=col>&lt;dbl&gt;</th><th scope=col>&lt;dbl&gt;</th></tr>\n",
       "</thead>\n",
       "<tbody>\n",
       "</tbody>\n",
       "</table>\n"
      ],
      "text/latex": [
       "A tibble: 0 × 3\n",
       "\\begin{tabular}{lll}\n",
       " predictor & best\\_k & rmspe\\\\\n",
       " <chr> & <dbl> & <dbl>\\\\\n",
       "\\hline\n",
       "\\end{tabular}\n"
      ],
      "text/markdown": [
       "\n",
       "A tibble: 0 × 3\n",
       "\n",
       "| predictor &lt;chr&gt; | best_k &lt;dbl&gt; | rmspe &lt;dbl&gt; |\n",
       "|---|---|---|\n",
       "\n"
      ],
      "text/plain": [
       "     predictor best_k rmspe"
      ]
     },
     "metadata": {},
     "output_type": "display_data"
    }
   ],
   "source": [
    "results %>% arrange(rmspe)"
   ]
  },
  {
   "cell_type": "code",
   "execution_count": 54,
   "metadata": {},
   "outputs": [
    {
     "name": "stdout",
     "output_type": "stream",
     "text": [
      "[1] \"age\"\n"
     ]
    },
    {
     "name": "stderr",
     "output_type": "stream",
     "text": [
      "Warning message in model.response(mf, \"numeric\"):\n",
      "“using type = \"numeric\" with a factor response will be ignored”\n",
      "Warning message in Ops.factor(y, z$residuals):\n",
      "“‘-’ not meaningful for factors”\n"
     ]
    },
    {
     "ename": "ERROR",
     "evalue": "Error: `estimate` should be a factor\n",
     "output_type": "error",
     "traceback": [
      "Error: `estimate` should be a factor\nTraceback:\n",
      "1. heart_lm_fit %>% predict(lm_test_data) %>% bind_cols(lm_test_data) %>% \n .     metrics(truth = num, estimate = .pred) %>% filter(.metric == \n .     \"rmse\") %>% select(.estimate) %>% pull()",
      "2. withVisible(eval(quote(`_fseq`(`_lhs`)), env, env))",
      "3. eval(quote(`_fseq`(`_lhs`)), env, env)",
      "4. eval(quote(`_fseq`(`_lhs`)), env, env)",
      "5. `_fseq`(`_lhs`)",
      "6. freduce(value, `_function_list`)",
      "7. function_list[[i]](value)",
      "8. metrics(., truth = num, estimate = .pred)",
      "9. metrics.data.frame(., truth = num, estimate = .pred)",
      "10. stop(\"`estimate` should be a factor\", call. = FALSE)"
     ]
    }
   ],
   "source": [
    "set.seed(1)\n",
    "\n",
    "\n",
    "# Create list of all predictors that we want to iterate through\n",
    "lm_predictors <- c(\n",
    "    'age', 'trestbps', 'chol', 'thalach', 'oldpeak', 'num'\n",
    ")\n",
    "\n",
    "# setup results dataframe. Will have rows for each predictor and resulting RMSPE\n",
    "lm_results <- tibble()\n",
    "lm_results <- mutate(lm_results, lm_predictor = \"\", lm_rmspe = 0)\n",
    "\n",
    "for (lm_pred in lm_predictors) {\n",
    "\n",
    "    print(lm_pred)\n",
    "    \n",
    "\n",
    "    lm_train_data <- heart_train %>%\n",
    "        select(num, all_of(lm_pred))\n",
    "    \n",
    "    lm_test_data <- heart_test %>%\n",
    "        select(num, all_of(lm_pred))\n",
    "    \n",
    "    heart_lm_recipe <- recipe(num ~ ., data = lm_train_data) %>%\n",
    "       step_scale(all_predictors()) %>%\n",
    "       step_center(all_predictors())\n",
    "    \n",
    "    heart_lm_spec <- linear_reg() %>%\n",
    "        set_engine(\"lm\") %>%\n",
    "        set_mode(\"regression\")\n",
    "\n",
    "    heart_lm_fit <- workflow() %>%\n",
    "       add_recipe(heart_lm_recipe) %>%\n",
    "       add_model(heart_lm_spec) %>%\n",
    "       fit(data = lm_train_data)\n",
    "    \n",
    "    lm_rmspe_val <- heart_lm_fit %>%\n",
    "         predict(lm_test_data) %>%\n",
    "         bind_cols(lm_test_data) %>%\n",
    "         metrics(truth = num, estimate =.pred) %>%\n",
    "         filter(.metric == \"rmse\") %>%\n",
    "         select(.estimate) %>%\n",
    "         pull()\n",
    "    \n",
    "    # Append predictor and rmspe value to the results dataframe\n",
    "    lm_results <- lm_results %>%\n",
    "        add_row(lm_predictor = lm_pred, lm_rmspe = lm_rmspe_val)\n",
    "}"
   ]
  },
  {
   "cell_type": "code",
   "execution_count": null,
   "metadata": {},
   "outputs": [],
   "source": []
  },
  {
   "cell_type": "code",
   "execution_count": 45,
   "metadata": {},
   "outputs": [
    {
     "data": {
      "text/html": [
       "<table>\n",
       "<caption>A tibble: 0 × 2</caption>\n",
       "<thead>\n",
       "\t<tr><th scope=col>lm_predictor</th><th scope=col>lm_rmspe</th></tr>\n",
       "\t<tr><th scope=col>&lt;chr&gt;</th><th scope=col>&lt;dbl&gt;</th></tr>\n",
       "</thead>\n",
       "<tbody>\n",
       "</tbody>\n",
       "</table>\n"
      ],
      "text/latex": [
       "A tibble: 0 × 2\n",
       "\\begin{tabular}{ll}\n",
       " lm\\_predictor & lm\\_rmspe\\\\\n",
       " <chr> & <dbl>\\\\\n",
       "\\hline\n",
       "\\end{tabular}\n"
      ],
      "text/markdown": [
       "\n",
       "A tibble: 0 × 2\n",
       "\n",
       "| lm_predictor &lt;chr&gt; | lm_rmspe &lt;dbl&gt; |\n",
       "|---|---|\n",
       "\n"
      ],
      "text/plain": [
       "     lm_predictor lm_rmspe"
      ]
     },
     "metadata": {},
     "output_type": "display_data"
    }
   ],
   "source": [
    "lm_results %>%\n",
    "    arrange(lm_rmspe)"
   ]
  },
  {
   "cell_type": "code",
   "execution_count": 52,
   "metadata": {},
   "outputs": [
    {
     "name": "stdout",
     "output_type": "stream",
     "text": [
      "[1] \"num ~ age + trestbps\"\n"
     ]
    },
    {
     "name": "stderr",
     "output_type": "stream",
     "text": [
      "Warning message in model.response(mf, \"numeric\"):\n",
      "“using type = \"numeric\" with a factor response will be ignored”\n",
      "Warning message in Ops.factor(y, z$residuals):\n",
      "“‘-’ not meaningful for factors”\n"
     ]
    },
    {
     "ename": "ERROR",
     "evalue": "Error: `estimate` should be a factor\n",
     "output_type": "error",
     "traceback": [
      "Error: `estimate` should be a factor\nTraceback:\n",
      "1. heart_fit_lm %>% predict(heart_test) %>% bind_cols(heart_test) %>% \n .     metrics(truth = num, estimate = .pred) %>% filter(.metric == \n .     \"rmse\") %>% select(.estimate) %>% pull()",
      "2. withVisible(eval(quote(`_fseq`(`_lhs`)), env, env))",
      "3. eval(quote(`_fseq`(`_lhs`)), env, env)",
      "4. eval(quote(`_fseq`(`_lhs`)), env, env)",
      "5. `_fseq`(`_lhs`)",
      "6. freduce(value, `_function_list`)",
      "7. function_list[[i]](value)",
      "8. metrics(., truth = num, estimate = .pred)",
      "9. metrics.data.frame(., truth = num, estimate = .pred)",
      "10. stop(\"`estimate` should be a factor\", call. = FALSE)"
     ]
    }
   ],
   "source": [
    "set.seed(1)\n",
    "# list of formulas that will be used to generate recipes iteratively\n",
    "formulas <- c(\n",
    "\"num ~ age + trestbps\",\n",
    "\"num ~ age + trestbps + chol\",\n",
    "\"num ~ age + chol\",\n",
    "\"num ~ age + chol + thalach\",\n",
    "\"num ~ age + thalach\",\n",
    "\"num ~ age + thalach + oldpeak \",\n",
    "\"num ~ age +oldpeak \",\n",
    "\"num ~ trestbps + chol\",\n",
    "\"num ~ trestbps + chol + thalach\",\n",
    "\"num ~ trestbps + thalach\",\n",
    "\"num ~ trestbps + thalach + oldpeak \",\n",
    "\"num ~ trestbps + oldpeak \",\n",
    "\"num ~ chol + thalach\",\n",
    "\"num ~ chol + thalach + oldpeak \",\n",
    "\"num ~ chol + oldpeak \",\n",
    "\"num ~ thalach + oldpeak \"\n",
    ")\n",
    "\n",
    "\n",
    "# setup results dataframe. Will have rows for each predictor and resulting RMSPE\n",
    "multi_lm_results <- tibble()\n",
    "multi_lm_results <- mutate(multi_lm_results, lm_predictor = \"\", lm_rmspe = 0)\n",
    "\n",
    "for (f in formulas) {\n",
    "\n",
    "    print(f)\n",
    "    \n",
    "    # Converts string formula to formula object\n",
    "    heart_spec_lm <- linear_reg() %>%\n",
    "        set_engine(\"lm\") %>%\n",
    "        set_mode(\"regression\")\n",
    "    \n",
    "    heart_recipe_lm <- recipe(as.formula(f), data = heart_train)\n",
    "    \n",
    "    heart_fit_lm <- workflow() %>%\n",
    "        add_recipe(heart_recipe_lm) %>%\n",
    "        add_model(heart_spec_lm) %>%\n",
    "        fit(data = heart_train)\n",
    "    \n",
    "    lm_rmspe_val <- heart_fit_lm %>%\n",
    "        predict(heart_test) %>%\n",
    "        bind_cols(heart_test) %>%\n",
    "        metrics(truth = num, estimate = .pred) %>%\n",
    "        filter(.metric == \"rmse\") %>%\n",
    "        select(.estimate) %>%\n",
    "        pull()\n",
    "\n",
    "    # append formula, and rmspe to results table\n",
    "    multi_lm_results <- multi_lm_results %>%\n",
    "        add_row(lm_predictor = f, lm_rmspe = lm_rmspe_val)\n",
    "\n",
    "}"
   ]
  },
  {
   "cell_type": "code",
   "execution_count": null,
   "metadata": {},
   "outputs": [],
   "source": [
    "accuracy <-  heart_result %>%\n",
    "            filter(.metric == \"accuracy\") "
   ]
  },
  {
   "cell_type": "code",
   "execution_count": null,
   "metadata": {},
   "outputs": [],
   "source": [
    "accuracy_versus_k <- ggplot(accuracy, aes(x = neighbors, y = mean))+\n",
    "       geom_point() +\n",
    "       geom_line() +\n",
    "       labs(x = \"Neighbors\", y = \"Accuracy Estimate\") +\n",
    "       scale_x_continuous(breaks = seq(0, 23, by = 1)) +  # adjusting the x-axis\n",
    "       scale_y_continuous(limits = c(0.4, 1.0)) +# adjusting the y-axis \n",
    "       theme(text=element_text(size=20))\n",
    "\n",
    "accuracy_versus_k\n",
    "\n",
    "appropriate_k <- accuracy %>%\n",
    "                arrange(-mean) %>%\n",
    "                slice(1) %>%\n",
    "                select(neighbors) %>%\n",
    "                pull()\n",
    "appropriate_k"
   ]
  },
  {
   "cell_type": "code",
   "execution_count": null,
   "metadata": {},
   "outputs": [],
   "source": [
    "set.seed(2022)\n",
    "knn_spec_new <- nearest_neighbor(weight_func = \"rectangular\", neighbor = appropriate_k) %>%\n",
    "            set_engine(\"kknn\") %>%\n",
    "            set_mode(\"classification\")\n",
    "\n",
    "heart_fit <- workflow() %>%\n",
    "                    add_model(knn_spec_new) %>%\n",
    "                    add_recipe(knn_recipe) %>%\n",
    "                    fit(data = heart_train)\n",
    "\n",
    "heart_predictions <- predict(heart_fit, heart_test) %>%\n",
    "                    bind_cols(heart_test)\n",
    "\n",
    "heart_metrics <- heart_predictions %>% \n",
    "    metrics(truth = diagnosis, estimate = .pred_class)\n",
    "\n",
    "heart_conf_mat <- heart_predictions %>%\n",
    "    conf_mat(truth =diagnosis, estimate = .pred_class)\n",
    "\n",
    "heart_metrics\n",
    "heart_conf_mat"
   ]
  },
  {
   "cell_type": "code",
   "execution_count": 8,
   "metadata": {},
   "outputs": [
    {
     "data": {
      "text/html": [
       "<style>\n",
       ".list-inline {list-style: none; margin:0; padding: 0}\n",
       ".list-inline>li {display: inline-block}\n",
       ".list-inline>li:not(:last-child)::after {content: \"\\00b7\"; padding: 0 .5ex}\n",
       "</style>\n",
       "<ol class=list-inline><li>'age'</li><li>'trestbps'</li><li>'chol'</li><li>'thalach'</li><li>'oldpeak'</li><li>'diagnosis'</li><li>'num'</li></ol>\n"
      ],
      "text/latex": [
       "\\begin{enumerate*}\n",
       "\\item 'age'\n",
       "\\item 'trestbps'\n",
       "\\item 'chol'\n",
       "\\item 'thalach'\n",
       "\\item 'oldpeak'\n",
       "\\item 'diagnosis'\n",
       "\\item 'num'\n",
       "\\end{enumerate*}\n"
      ],
      "text/markdown": [
       "1. 'age'\n",
       "2. 'trestbps'\n",
       "3. 'chol'\n",
       "4. 'thalach'\n",
       "5. 'oldpeak'\n",
       "6. 'diagnosis'\n",
       "7. 'num'\n",
       "\n",
       "\n"
      ],
      "text/plain": [
       "[1] \"age\"       \"trestbps\"  \"chol\"      \"thalach\"   \"oldpeak\"   \"diagnosis\"\n",
       "[7] \"num\"      "
      ]
     },
     "metadata": {},
     "output_type": "display_data"
    }
   ],
   "source": [
    "\n",
    "# create an empty tibble to store the results\n",
    "names <- colnames(heart_train)\n",
    "names"
   ]
  },
  {
   "cell_type": "code",
   "execution_count": 12,
   "metadata": {},
   "outputs": [
    {
     "data": {
      "text/html": [
       "<table>\n",
       "<caption>A tibble: 5 × 3</caption>\n",
       "<thead>\n",
       "\t<tr><th scope=col>size</th><th scope=col>model_string</th><th scope=col>accuracy</th></tr>\n",
       "\t<tr><th scope=col>&lt;int&gt;</th><th scope=col>&lt;chr&gt;</th><th scope=col>&lt;dbl&gt;</th></tr>\n",
       "</thead>\n",
       "<tbody>\n",
       "\t<tr><td>1</td><td>diagnosis ~ thalach                          </td><td>0.7323671</td></tr>\n",
       "\t<tr><td>2</td><td>diagnosis ~ thalach+oldpeak                  </td><td>0.7718841</td></tr>\n",
       "\t<tr><td>3</td><td>diagnosis ~ thalach+oldpeak+trestbps         </td><td>0.7762319</td></tr>\n",
       "\t<tr><td>4</td><td>diagnosis ~ thalach+oldpeak+trestbps+chol    </td><td>0.7542029</td></tr>\n",
       "\t<tr><td>5</td><td>diagnosis ~ thalach+oldpeak+trestbps+chol+age</td><td>0.7194203</td></tr>\n",
       "</tbody>\n",
       "</table>\n"
      ],
      "text/latex": [
       "A tibble: 5 × 3\n",
       "\\begin{tabular}{lll}\n",
       " size & model\\_string & accuracy\\\\\n",
       " <int> & <chr> & <dbl>\\\\\n",
       "\\hline\n",
       "\t 1 & diagnosis \\textasciitilde{} thalach                           & 0.7323671\\\\\n",
       "\t 2 & diagnosis \\textasciitilde{} thalach+oldpeak                   & 0.7718841\\\\\n",
       "\t 3 & diagnosis \\textasciitilde{} thalach+oldpeak+trestbps          & 0.7762319\\\\\n",
       "\t 4 & diagnosis \\textasciitilde{} thalach+oldpeak+trestbps+chol     & 0.7542029\\\\\n",
       "\t 5 & diagnosis \\textasciitilde{} thalach+oldpeak+trestbps+chol+age & 0.7194203\\\\\n",
       "\\end{tabular}\n"
      ],
      "text/markdown": [
       "\n",
       "A tibble: 5 × 3\n",
       "\n",
       "| size &lt;int&gt; | model_string &lt;chr&gt; | accuracy &lt;dbl&gt; |\n",
       "|---|---|---|\n",
       "| 1 | diagnosis ~ thalach                           | 0.7323671 |\n",
       "| 2 | diagnosis ~ thalach+oldpeak                   | 0.7718841 |\n",
       "| 3 | diagnosis ~ thalach+oldpeak+trestbps          | 0.7762319 |\n",
       "| 4 | diagnosis ~ thalach+oldpeak+trestbps+chol     | 0.7542029 |\n",
       "| 5 | diagnosis ~ thalach+oldpeak+trestbps+chol+age | 0.7194203 |\n",
       "\n"
      ],
      "text/plain": [
       "  size model_string                                  accuracy \n",
       "1 1    diagnosis ~ thalach                           0.7323671\n",
       "2 2    diagnosis ~ thalach+oldpeak                   0.7718841\n",
       "3 3    diagnosis ~ thalach+oldpeak+trestbps          0.7762319\n",
       "4 4    diagnosis ~ thalach+oldpeak+trestbps+chol     0.7542029\n",
       "5 5    diagnosis ~ thalach+oldpeak+trestbps+chol+age 0.7194203"
      ]
     },
     "metadata": {},
     "output_type": "display_data"
    }
   ],
   "source": [
    "## Textbook version\n",
    "heart_subset <- heart_train %>% \n",
    "  select(age, \n",
    "         trestbps, \n",
    "         chol, \n",
    "         thalach, \n",
    "         oldpeak, \n",
    "         diagnosis)\n",
    "\n",
    "names <- colnames(heart_subset %>% select(-diagnosis))\n",
    "\n",
    "accuracies <- tibble(size = integer(),\n",
    "                    model_string = character(),\n",
    "                    accuracy = numeric())\n",
    "\n",
    "# create a model specification\n",
    "knn_spec <- nearest_neighbor(weight_func = \"rectangular\", \n",
    "                             neighbors = tune()) %>%\n",
    "     set_engine(\"kknn\") %>%\n",
    "     set_mode(\"classification\")\n",
    "\n",
    "# create a 5-fold cross-validation object\n",
    "heart_vfold <- vfold_cv(heart_train, v = 5, strata = diagnosis)\n",
    "\n",
    "# store the total number of predictors\n",
    "n_total <- length(names)\n",
    "\n",
    "# stores selected predictors\n",
    "selected <- c()\n",
    "\n",
    "# for every size from 1 to the total number of predictors\n",
    "for (i in 1:n_total) {\n",
    "    # for every predictor still not added yet\n",
    "    accs <- list()\n",
    "    models <- list()\n",
    "    for (j in 1:length(names)) {\n",
    "        # create a model string for this combination of predictors\n",
    "        preds_new <- c(selected, names[[j]])\n",
    "        model_string <- paste(\"diagnosis\", \"~\", paste(preds_new, collapse=\"+\"))\n",
    "\n",
    "        # create a recipe from the model string\n",
    "        heart_recipe <- recipe(as.formula(model_string), \n",
    "                                data = heart_train) %>%\n",
    "                          step_scale(all_predictors()) %>%\n",
    "                          step_center(all_predictors())\n",
    "\n",
    "        # tune the KNN classifier with these predictors, \n",
    "        # and collect the accuracy for the best K\n",
    "        acc <- workflow() %>%\n",
    "          add_recipe(heart_recipe) %>%\n",
    "          add_model(knn_spec) %>%\n",
    "          tune_grid(resamples = heart_vfold, grid = 10) %>%\n",
    "          collect_metrics() %>%\n",
    "          filter(.metric == \"accuracy\") %>%\n",
    "          summarize(mx = max(mean))\n",
    "        acc <- acc$mx %>% unlist()\n",
    "\n",
    "        # add this result to the dataframe\n",
    "        accs[[j]] <- acc\n",
    "        models[[j]] <- model_string\n",
    "    }\n",
    "    jstar <- which.max(unlist(accs))\n",
    "    accuracies <- accuracies %>% \n",
    "      add_row(size = i, \n",
    "              model_string = models[[jstar]], \n",
    "              accuracy = accs[[jstar]])\n",
    "    selected <- c(selected, names[[jstar]])\n",
    "    names <- names[-jstar]\n",
    "}\n",
    "\n",
    "accuracies"
   ]
  },
  {
   "cell_type": "code",
   "execution_count": null,
   "metadata": {},
   "outputs": [],
   "source": []
  },
  {
   "cell_type": "code",
   "execution_count": null,
   "metadata": {},
   "outputs": [],
   "source": []
  }
 ],
 "metadata": {
  "kernelspec": {
   "display_name": "R",
   "language": "R",
   "name": "ir"
  },
  "language_info": {
   "codemirror_mode": "r",
   "file_extension": ".r",
   "mimetype": "text/x-r-source",
   "name": "R",
   "pygments_lexer": "r",
   "version": "4.0.0"
  }
 },
 "nbformat": 4,
 "nbformat_minor": 4
}
